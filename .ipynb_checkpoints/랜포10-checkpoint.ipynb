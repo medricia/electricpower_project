{
 "cells": [
  {
   "cell_type": "code",
   "execution_count": 1,
   "id": "37b72c42",
   "metadata": {},
   "outputs": [],
   "source": [
    "import pandas as pd\n",
    "import numpy as np\n",
    "import matplotlib.pyplot as plt\n",
    "import seaborn as sns\n",
    "\n",
    "from sklearn.ensemble import RandomForestRegressor\n",
    "\n",
    "from sklearn.preprocessing import MinMaxScaler\n",
    "from sklearn.model_selection import GridSearchCV\n",
    "from math import sqrt\n",
    "\n",
    "from tensorflow import keras\n",
    "from tensorflow.keras.models import Sequential\n",
    "import tensorflow as tf\n",
    "\n",
    "from sklearn.model_selection import train_test_split\n",
    "from tensorflow.keras.layers import LSTM, Dense\n",
    "from sklearn.metrics import mean_squared_error, r2_score,mean_absolute_error"
   ]
  },
  {
   "cell_type": "code",
   "execution_count": 2,
   "id": "da3fb54b",
   "metadata": {},
   "outputs": [],
   "source": [
    "df= pd.read_csv('../power/train.csv')"
   ]
  },
  {
   "cell_type": "code",
   "execution_count": 3,
   "id": "7549560e",
   "metadata": {},
   "outputs": [],
   "source": [
    "df['강수량(mm)'] = df['강수량(mm)'].fillna(0.0)"
   ]
  },
  {
   "cell_type": "code",
   "execution_count": 4,
   "id": "230c10f0",
   "metadata": {},
   "outputs": [],
   "source": [
    "df.loc[df[\"num_date_time\"] == \"15_20220806 17\", \"풍속(m/s)\"] = (2.7 + 2.4) / 2"
   ]
  },
  {
   "cell_type": "code",
   "execution_count": 5,
   "id": "22d29bfe",
   "metadata": {},
   "outputs": [],
   "source": [
    "df.loc[df[\"num_date_time\"] == \"26_20220627 16\", \"풍속(m/s)\"] = (1.0 + 0.75) / 2"
   ]
  },
  {
   "cell_type": "code",
   "execution_count": 6,
   "id": "929124e4",
   "metadata": {},
   "outputs": [],
   "source": [
    "df.loc[df[\"num_date_time\"] == \"97_20220806 15\", \"풍속(m/s)\"] = (5.0 + 3.0) / 2\n",
    "df.loc[df[\"num_date_time\"] == \"97_20220806 16\", \"풍속(m/s)\"] = (5.0 + 3.0) / 2"
   ]
  },
  {
   "cell_type": "code",
   "execution_count": 7,
   "id": "5aca0ca8",
   "metadata": {},
   "outputs": [],
   "source": [
    "df.loc[df[\"num_date_time\"] == \"9_20220614 11\", \"풍속(m/s)\"] = (3.8 + 4.6) / 2"
   ]
  },
  {
   "cell_type": "code",
   "execution_count": 8,
   "id": "c5e7aeca",
   "metadata": {},
   "outputs": [],
   "source": [
    "df.loc[df[\"num_date_time\"] == \"16_20220803 15\", \"풍속(m/s)\"] = (3.9 + 3.8) / 2"
   ]
  },
  {
   "cell_type": "code",
   "execution_count": 9,
   "id": "32aeb845",
   "metadata": {},
   "outputs": [],
   "source": [
    "df.loc[df[\"num_date_time\"] == \"26_20220627 17\", \"풍속(m/s)\"] = (1.0 + 0.5) / 2"
   ]
  },
  {
   "cell_type": "code",
   "execution_count": 10,
   "id": "b4b7ee1f",
   "metadata": {},
   "outputs": [],
   "source": [
    "df.loc[df[\"num_date_time\"] == \"26_20220709 09\", \"풍속(m/s)\"] = (0.0 + 1.0) / 2"
   ]
  },
  {
   "cell_type": "code",
   "execution_count": 11,
   "id": "43b108b6",
   "metadata": {},
   "outputs": [],
   "source": [
    "df.loc[df[\"num_date_time\"] == \"42_20220703 10\", \"풍속(m/s)\"] = (0.9 + 1.7) / 2"
   ]
  },
  {
   "cell_type": "code",
   "execution_count": 12,
   "id": "08be655d",
   "metadata": {},
   "outputs": [],
   "source": [
    "df.loc[df[\"num_date_time\"] == \"50_20220703 10\", \"풍속(m/s)\"] = (0.9 + 1.7) / 2"
   ]
  },
  {
   "cell_type": "code",
   "execution_count": 13,
   "id": "3cecb080",
   "metadata": {},
   "outputs": [],
   "source": [
    "df.loc[df[\"num_date_time\"] == \"52_20220806 15\", \"풍속(m/s)\"] = (5.0 + 3.0) / 2\n",
    "df.loc[df[\"num_date_time\"] == \"52_20220806 16\", \"풍속(m/s)\"] = (5.0 + 3.0) / 2"
   ]
  },
  {
   "cell_type": "code",
   "execution_count": 14,
   "id": "7d2dc47a",
   "metadata": {},
   "outputs": [],
   "source": [
    "df.loc[df[\"num_date_time\"] == \"87_20220714 05\", \"풍속(m/s)\"] = (1.4 + 1.3) / 2\n",
    "df.loc[df[\"num_date_time\"] == \"87_20220714 06\", \"풍속(m/s)\"] = (1.4 + 1.3) / 2\n",
    "df.loc[df[\"num_date_time\"] == \"87_20220714 07\", \"풍속(m/s)\"] = (1.4 + 1.3) / 2\n",
    "df.loc[df[\"num_date_time\"] == \"87_20220714 08\", \"풍속(m/s)\"] = (1.4 + 1.3) / 2\n",
    "df.loc[df[\"num_date_time\"] == \"87_20220714 09\", \"풍속(m/s)\"] = (1.4 + 1.3) / 2"
   ]
  },
  {
   "cell_type": "code",
   "execution_count": 15,
   "id": "466cd659",
   "metadata": {},
   "outputs": [],
   "source": [
    "df.loc[df[\"num_date_time\"] == \"90_20220806 17\", \"풍속(m/s)\"] = (1.3 + 2.7) / 2"
   ]
  },
  {
   "cell_type": "code",
   "execution_count": 16,
   "id": "0ae7b2a2",
   "metadata": {},
   "outputs": [],
   "source": [
    "df.loc[df[\"num_date_time\"] == \"90_20220806 15\", \"풍속(m/s)\"] = (5.0 + 3.0) / 2\n",
    "df.loc[df[\"num_date_time\"] == \"90_20220806 16\", \"풍속(m/s)\"] = (5.0 + 3.0) / 2"
   ]
  },
  {
   "cell_type": "code",
   "execution_count": 17,
   "id": "c53514d9",
   "metadata": {},
   "outputs": [],
   "source": [
    "df.loc[df[\"num_date_time\"] == \"100_20220608 15\", \"풍속(m/s)\"] = (1.9 + 1.6) / 2"
   ]
  },
  {
   "cell_type": "code",
   "execution_count": 18,
   "id": "bfa7091b",
   "metadata": {},
   "outputs": [],
   "source": [
    "df.loc[df[\"num_date_time\"] == \"100_20220723 03\", \"풍속(m/s)\"] = (0.0 + 0.0) / 2"
   ]
  },
  {
   "cell_type": "code",
   "execution_count": 19,
   "id": "e392efbb",
   "metadata": {},
   "outputs": [],
   "source": [
    "df.loc[df[\"num_date_time\"] == \"9_20220614 11\", \"습도(%)\"] = (94.0 + 91.0) / 2"
   ]
  },
  {
   "cell_type": "code",
   "execution_count": 20,
   "id": "acbb6548",
   "metadata": {},
   "outputs": [],
   "source": [
    "df.loc[df[\"num_date_time\"] == \"9_20220614 11\", \"습도(%)\"] = (54.0 + 92.0) / 2"
   ]
  },
  {
   "cell_type": "code",
   "execution_count": 21,
   "id": "afeace43",
   "metadata": {},
   "outputs": [],
   "source": [
    "df.loc[df[\"num_date_time\"] == \"87_20220714 05\", \"습도(%)\"] = (100.0 + 90.0) / 2\n",
    "df.loc[df[\"num_date_time\"] == \"87_20220714 06\", \"습도(%)\"] = (100.0 + 90.0) / 2\n",
    "df.loc[df[\"num_date_time\"] == \"87_20220714 07\", \"습도(%)\"] = (100.0 + 90.0) / 2\n",
    "df.loc[df[\"num_date_time\"] == \"87_20220714 08\", \"습도(%)\"] = (100.0 + 90.0) / 2\n",
    "df.loc[df[\"num_date_time\"] == \"87_20220714 09\", \"습도(%)\"] = (100.0 + 90.0) / 2"
   ]
  },
  {
   "cell_type": "code",
   "execution_count": 22,
   "id": "349c9180",
   "metadata": {},
   "outputs": [],
   "source": [
    "df.loc[df[\"num_date_time\"] == \"90_20220806 17\", \"습도(%)\"] = (54.0 + 56.0) / 2"
   ]
  },
  {
   "cell_type": "code",
   "execution_count": 23,
   "id": "cc30766b",
   "metadata": {},
   "outputs": [],
   "source": [
    "df.loc[df[\"num_date_time\"] == \"100_20220608 15\", \"습도(%)\"] = (52.0 + 53.0) / 2"
   ]
  },
  {
   "cell_type": "code",
   "execution_count": 24,
   "id": "82a98a4e",
   "metadata": {},
   "outputs": [],
   "source": [
    "df.loc[df[\"num_date_time\"] == \"15_20220806 17\", \"습도(%)\"] = (54.0 + 56.0) / 2"
   ]
  },
  {
   "cell_type": "code",
   "execution_count": 25,
   "id": "dd194edd",
   "metadata": {},
   "outputs": [],
   "source": [
    "df['일조(hr)'].fillna(round(df['일조(hr)'].mean(),2), inplace=True)"
   ]
  },
  {
   "cell_type": "code",
   "execution_count": 26,
   "id": "79f5172a",
   "metadata": {},
   "outputs": [],
   "source": [
    "df['일사(MJ/m2)'].fillna(round(df['일사(MJ/m2)'].mean(),2), inplace=True)"
   ]
  },
  {
   "cell_type": "code",
   "execution_count": 27,
   "id": "1dccf83e",
   "metadata": {},
   "outputs": [],
   "source": [
    "df = df.drop(['num_date_time'], axis=1)"
   ]
  },
  {
   "cell_type": "code",
   "execution_count": 28,
   "id": "cfe1d888",
   "metadata": {},
   "outputs": [],
   "source": [
    "df['연도'] = df['일시'].apply(lambda x : int(x[:4]))\n",
    "df['월'] = df['일시'].apply(lambda x : int(x[4:6]))\n",
    "df['일'] = df['일시'].apply(lambda x : int(x[6:8]))\n",
    "df['시간'] = df['일시'].apply(lambda x : int(x[9:11]))"
   ]
  },
  {
   "cell_type": "code",
   "execution_count": 29,
   "id": "158be3f9",
   "metadata": {},
   "outputs": [],
   "source": [
    "df = df.drop(['일시','연도'], axis=1)"
   ]
  },
  {
   "cell_type": "code",
   "execution_count": 30,
   "id": "043c6f9a",
   "metadata": {},
   "outputs": [
    {
     "data": {
      "text/html": [
       "<div>\n",
       "<style scoped>\n",
       "    .dataframe tbody tr th:only-of-type {\n",
       "        vertical-align: middle;\n",
       "    }\n",
       "\n",
       "    .dataframe tbody tr th {\n",
       "        vertical-align: top;\n",
       "    }\n",
       "\n",
       "    .dataframe thead th {\n",
       "        text-align: right;\n",
       "    }\n",
       "</style>\n",
       "<table border=\"1\" class=\"dataframe\">\n",
       "  <thead>\n",
       "    <tr style=\"text-align: right;\">\n",
       "      <th></th>\n",
       "      <th>월</th>\n",
       "      <th>일</th>\n",
       "      <th>시간</th>\n",
       "      <th>건물번호</th>\n",
       "      <th>기온(C)</th>\n",
       "      <th>강수량(mm)</th>\n",
       "      <th>풍속(m/s)</th>\n",
       "      <th>습도(%)</th>\n",
       "      <th>일조(hr)</th>\n",
       "      <th>일사(MJ/m2)</th>\n",
       "      <th>전력소비량(kWh)</th>\n",
       "    </tr>\n",
       "  </thead>\n",
       "  <tbody>\n",
       "    <tr>\n",
       "      <th>0</th>\n",
       "      <td>6</td>\n",
       "      <td>1</td>\n",
       "      <td>0</td>\n",
       "      <td>1</td>\n",
       "      <td>18.6</td>\n",
       "      <td>0.0</td>\n",
       "      <td>0.9</td>\n",
       "      <td>42.0</td>\n",
       "      <td>0.33</td>\n",
       "      <td>1.06</td>\n",
       "      <td>1085.28</td>\n",
       "    </tr>\n",
       "    <tr>\n",
       "      <th>1</th>\n",
       "      <td>6</td>\n",
       "      <td>1</td>\n",
       "      <td>1</td>\n",
       "      <td>1</td>\n",
       "      <td>18.0</td>\n",
       "      <td>0.0</td>\n",
       "      <td>1.1</td>\n",
       "      <td>45.0</td>\n",
       "      <td>0.33</td>\n",
       "      <td>1.06</td>\n",
       "      <td>1047.36</td>\n",
       "    </tr>\n",
       "    <tr>\n",
       "      <th>2</th>\n",
       "      <td>6</td>\n",
       "      <td>1</td>\n",
       "      <td>2</td>\n",
       "      <td>1</td>\n",
       "      <td>17.7</td>\n",
       "      <td>0.0</td>\n",
       "      <td>1.5</td>\n",
       "      <td>45.0</td>\n",
       "      <td>0.33</td>\n",
       "      <td>1.06</td>\n",
       "      <td>974.88</td>\n",
       "    </tr>\n",
       "    <tr>\n",
       "      <th>3</th>\n",
       "      <td>6</td>\n",
       "      <td>1</td>\n",
       "      <td>3</td>\n",
       "      <td>1</td>\n",
       "      <td>16.7</td>\n",
       "      <td>0.0</td>\n",
       "      <td>1.4</td>\n",
       "      <td>48.0</td>\n",
       "      <td>0.33</td>\n",
       "      <td>1.06</td>\n",
       "      <td>953.76</td>\n",
       "    </tr>\n",
       "    <tr>\n",
       "      <th>4</th>\n",
       "      <td>6</td>\n",
       "      <td>1</td>\n",
       "      <td>4</td>\n",
       "      <td>1</td>\n",
       "      <td>18.4</td>\n",
       "      <td>0.0</td>\n",
       "      <td>2.8</td>\n",
       "      <td>43.0</td>\n",
       "      <td>0.33</td>\n",
       "      <td>1.06</td>\n",
       "      <td>986.40</td>\n",
       "    </tr>\n",
       "  </tbody>\n",
       "</table>\n",
       "</div>"
      ],
      "text/plain": [
       "   월  일  시간  건물번호  기온(C)  강수량(mm)  풍속(m/s)  습도(%)  일조(hr)  일사(MJ/m2)  \\\n",
       "0  6  1   0     1   18.6      0.0      0.9   42.0    0.33       1.06   \n",
       "1  6  1   1     1   18.0      0.0      1.1   45.0    0.33       1.06   \n",
       "2  6  1   2     1   17.7      0.0      1.5   45.0    0.33       1.06   \n",
       "3  6  1   3     1   16.7      0.0      1.4   48.0    0.33       1.06   \n",
       "4  6  1   4     1   18.4      0.0      2.8   43.0    0.33       1.06   \n",
       "\n",
       "   전력소비량(kWh)  \n",
       "0     1085.28  \n",
       "1     1047.36  \n",
       "2      974.88  \n",
       "3      953.76  \n",
       "4      986.40  "
      ]
     },
     "execution_count": 30,
     "metadata": {},
     "output_type": "execute_result"
    }
   ],
   "source": [
    "df = df[[\"월\",\"일\", \"시간\", \"건물번호\",\"기온(C)\", \"강수량(mm)\", \"풍속(m/s)\", \"습도(%)\", \"일조(hr)\", \"일사(MJ/m2)\",\"전력소비량(kWh)\"]]\n",
    "df.head()"
   ]
  },
  {
   "cell_type": "code",
   "execution_count": 31,
   "id": "f1deceba",
   "metadata": {},
   "outputs": [],
   "source": [
    "# 정규화하기\n",
    "# MinMaxScaler 클래스 생성\n",
    "scaler = MinMaxScaler()\n",
    "\n",
    "# MinMaxScaler 클래스의 fit_transform() 메서드 사용 데이터 정규화\n",
    "normalized_data = scaler.fit_transform(df)\n",
    "\n",
    "# 정규화된 데이터, 데이터 프레임으로 다시 변환\n",
    "ndf = pd.DataFrame(normalized_data, columns=df.columns)"
   ]
  },
  {
   "cell_type": "code",
   "execution_count": 32,
   "id": "28eb065c",
   "metadata": {},
   "outputs": [],
   "source": [
    "X = ndf.iloc[:, :-1]\n",
    "y = ndf.iloc[:,[-1]]"
   ]
  },
  {
   "cell_type": "code",
   "execution_count": 33,
   "id": "c56e2299",
   "metadata": {},
   "outputs": [
    {
     "data": {
      "text/html": [
       "<div>\n",
       "<style scoped>\n",
       "    .dataframe tbody tr th:only-of-type {\n",
       "        vertical-align: middle;\n",
       "    }\n",
       "\n",
       "    .dataframe tbody tr th {\n",
       "        vertical-align: top;\n",
       "    }\n",
       "\n",
       "    .dataframe thead th {\n",
       "        text-align: right;\n",
       "    }\n",
       "</style>\n",
       "<table border=\"1\" class=\"dataframe\">\n",
       "  <thead>\n",
       "    <tr style=\"text-align: right;\">\n",
       "      <th></th>\n",
       "      <th>월</th>\n",
       "      <th>일</th>\n",
       "      <th>시간</th>\n",
       "      <th>건물번호</th>\n",
       "      <th>기온(C)</th>\n",
       "      <th>강수량(mm)</th>\n",
       "      <th>풍속(m/s)</th>\n",
       "      <th>습도(%)</th>\n",
       "      <th>일조(hr)</th>\n",
       "      <th>일사(MJ/m2)</th>\n",
       "    </tr>\n",
       "  </thead>\n",
       "  <tbody>\n",
       "    <tr>\n",
       "      <th>0</th>\n",
       "      <td>0.0</td>\n",
       "      <td>0.0</td>\n",
       "      <td>0.000000</td>\n",
       "      <td>0.0</td>\n",
       "      <td>0.314815</td>\n",
       "      <td>0.0</td>\n",
       "      <td>0.067669</td>\n",
       "      <td>0.333333</td>\n",
       "      <td>0.33</td>\n",
       "      <td>0.270408</td>\n",
       "    </tr>\n",
       "    <tr>\n",
       "      <th>1</th>\n",
       "      <td>0.0</td>\n",
       "      <td>0.0</td>\n",
       "      <td>0.043478</td>\n",
       "      <td>0.0</td>\n",
       "      <td>0.292593</td>\n",
       "      <td>0.0</td>\n",
       "      <td>0.082707</td>\n",
       "      <td>0.367816</td>\n",
       "      <td>0.33</td>\n",
       "      <td>0.270408</td>\n",
       "    </tr>\n",
       "    <tr>\n",
       "      <th>2</th>\n",
       "      <td>0.0</td>\n",
       "      <td>0.0</td>\n",
       "      <td>0.086957</td>\n",
       "      <td>0.0</td>\n",
       "      <td>0.281481</td>\n",
       "      <td>0.0</td>\n",
       "      <td>0.112782</td>\n",
       "      <td>0.367816</td>\n",
       "      <td>0.33</td>\n",
       "      <td>0.270408</td>\n",
       "    </tr>\n",
       "    <tr>\n",
       "      <th>3</th>\n",
       "      <td>0.0</td>\n",
       "      <td>0.0</td>\n",
       "      <td>0.130435</td>\n",
       "      <td>0.0</td>\n",
       "      <td>0.244444</td>\n",
       "      <td>0.0</td>\n",
       "      <td>0.105263</td>\n",
       "      <td>0.402299</td>\n",
       "      <td>0.33</td>\n",
       "      <td>0.270408</td>\n",
       "    </tr>\n",
       "    <tr>\n",
       "      <th>4</th>\n",
       "      <td>0.0</td>\n",
       "      <td>0.0</td>\n",
       "      <td>0.173913</td>\n",
       "      <td>0.0</td>\n",
       "      <td>0.307407</td>\n",
       "      <td>0.0</td>\n",
       "      <td>0.210526</td>\n",
       "      <td>0.344828</td>\n",
       "      <td>0.33</td>\n",
       "      <td>0.270408</td>\n",
       "    </tr>\n",
       "  </tbody>\n",
       "</table>\n",
       "</div>"
      ],
      "text/plain": [
       "     월    일        시간  건물번호     기온(C)  강수량(mm)   풍속(m/s)     습도(%)  일조(hr)  \\\n",
       "0  0.0  0.0  0.000000   0.0  0.314815      0.0  0.067669  0.333333    0.33   \n",
       "1  0.0  0.0  0.043478   0.0  0.292593      0.0  0.082707  0.367816    0.33   \n",
       "2  0.0  0.0  0.086957   0.0  0.281481      0.0  0.112782  0.367816    0.33   \n",
       "3  0.0  0.0  0.130435   0.0  0.244444      0.0  0.105263  0.402299    0.33   \n",
       "4  0.0  0.0  0.173913   0.0  0.307407      0.0  0.210526  0.344828    0.33   \n",
       "\n",
       "   일사(MJ/m2)  \n",
       "0   0.270408  \n",
       "1   0.270408  \n",
       "2   0.270408  \n",
       "3   0.270408  \n",
       "4   0.270408  "
      ]
     },
     "execution_count": 33,
     "metadata": {},
     "output_type": "execute_result"
    }
   ],
   "source": [
    "X.head()"
   ]
  },
  {
   "cell_type": "code",
   "execution_count": 34,
   "id": "61e52702",
   "metadata": {},
   "outputs": [],
   "source": [
    "X = X.drop(['일조(hr)','일사(MJ/m2)'], axis=1)"
   ]
  },
  {
   "cell_type": "code",
   "execution_count": 35,
   "id": "03aab965",
   "metadata": {},
   "outputs": [
    {
     "data": {
      "text/html": [
       "<div>\n",
       "<style scoped>\n",
       "    .dataframe tbody tr th:only-of-type {\n",
       "        vertical-align: middle;\n",
       "    }\n",
       "\n",
       "    .dataframe tbody tr th {\n",
       "        vertical-align: top;\n",
       "    }\n",
       "\n",
       "    .dataframe thead th {\n",
       "        text-align: right;\n",
       "    }\n",
       "</style>\n",
       "<table border=\"1\" class=\"dataframe\">\n",
       "  <thead>\n",
       "    <tr style=\"text-align: right;\">\n",
       "      <th></th>\n",
       "      <th>전력소비량(kWh)</th>\n",
       "    </tr>\n",
       "  </thead>\n",
       "  <tbody>\n",
       "    <tr>\n",
       "      <th>0</th>\n",
       "      <td>0.042579</td>\n",
       "    </tr>\n",
       "    <tr>\n",
       "      <th>1</th>\n",
       "      <td>0.041092</td>\n",
       "    </tr>\n",
       "    <tr>\n",
       "      <th>2</th>\n",
       "      <td>0.038248</td>\n",
       "    </tr>\n",
       "    <tr>\n",
       "      <th>3</th>\n",
       "      <td>0.037419</td>\n",
       "    </tr>\n",
       "    <tr>\n",
       "      <th>4</th>\n",
       "      <td>0.038700</td>\n",
       "    </tr>\n",
       "  </tbody>\n",
       "</table>\n",
       "</div>"
      ],
      "text/plain": [
       "   전력소비량(kWh)\n",
       "0    0.042579\n",
       "1    0.041092\n",
       "2    0.038248\n",
       "3    0.037419\n",
       "4    0.038700"
      ]
     },
     "execution_count": 35,
     "metadata": {},
     "output_type": "execute_result"
    }
   ],
   "source": [
    "y.head()"
   ]
  },
  {
   "cell_type": "code",
   "execution_count": 36,
   "id": "c2e66a04",
   "metadata": {},
   "outputs": [
    {
     "data": {
      "text/plain": [
       "'\\nparam_grid = {\\n    \"max_depth\": [10,30,50],\\n    \"n_estimators\": [50,100],\\n     \"min_samples_split\":[5,2],\\n     \"min_samples_leaf\":[1,2]\\n}\\n'"
      ]
     },
     "execution_count": 36,
     "metadata": {},
     "output_type": "execute_result"
    }
   ],
   "source": [
    "'''\n",
    "param_grid = {\n",
    "    \"max_depth\": [10,30,50],\n",
    "    \"n_estimators\": [50,100],\n",
    "     \"min_samples_split\":[5,2],\n",
    "     \"min_samples_leaf\":[1,2]\n",
    "}\n",
    "'''"
   ]
  },
  {
   "cell_type": "code",
   "execution_count": 37,
   "id": "869e2e83",
   "metadata": {},
   "outputs": [
    {
     "data": {
      "text/plain": [
       "'clf = GridSearchCV(RandomForestRegressor(), param_grid, cv=5)'"
      ]
     },
     "execution_count": 37,
     "metadata": {},
     "output_type": "execute_result"
    }
   ],
   "source": [
    "'''clf = GridSearchCV(RandomForestRegressor(), param_grid, cv=5)'''"
   ]
  },
  {
   "cell_type": "code",
   "execution_count": 38,
   "id": "1ff4cfd4",
   "metadata": {},
   "outputs": [
    {
     "data": {
      "text/plain": [
       "'clf.fit(X, y)'"
      ]
     },
     "execution_count": 38,
     "metadata": {},
     "output_type": "execute_result"
    }
   ],
   "source": [
    "'''clf.fit(X, y)'''"
   ]
  },
  {
   "cell_type": "code",
   "execution_count": 39,
   "id": "f45cc8d4",
   "metadata": {},
   "outputs": [
    {
     "data": {
      "text/plain": [
       "'print(clf.best_params_)'"
      ]
     },
     "execution_count": 39,
     "metadata": {},
     "output_type": "execute_result"
    }
   ],
   "source": [
    "'''print(clf.best_params_)'''"
   ]
  },
  {
   "cell_type": "code",
   "execution_count": 40,
   "id": "f218e866",
   "metadata": {},
   "outputs": [
    {
     "data": {
      "text/plain": [
       "'param_grid = {\\n    \"max_depth\": [5,10,15],\\n    \"n_estimators\": [100,150,300],\\n     \"min_samples_split\":[1,2,3],\\n     \"min_samples_leaf\":[2,3]\\n}'"
      ]
     },
     "execution_count": 40,
     "metadata": {},
     "output_type": "execute_result"
    }
   ],
   "source": [
    "'''param_grid = {\n",
    "    \"max_depth\": [5,10,15],\n",
    "    \"n_estimators\": [100,150,300],\n",
    "     \"min_samples_split\":[1,2,3],\n",
    "     \"min_samples_leaf\":[2,3]\n",
    "}'''"
   ]
  },
  {
   "cell_type": "code",
   "execution_count": 41,
   "id": "bc61c60b",
   "metadata": {},
   "outputs": [
    {
     "data": {
      "text/plain": [
       "'clf = GridSearchCV(RandomForestRegressor(), param_grid, cv=5)'"
      ]
     },
     "execution_count": 41,
     "metadata": {},
     "output_type": "execute_result"
    }
   ],
   "source": [
    "'''clf = GridSearchCV(RandomForestRegressor(), param_grid, cv=5)'''"
   ]
  },
  {
   "cell_type": "code",
   "execution_count": 42,
   "id": "a8873e05",
   "metadata": {},
   "outputs": [
    {
     "data": {
      "text/plain": [
       "'clf.fit(X, y)'"
      ]
     },
     "execution_count": 42,
     "metadata": {},
     "output_type": "execute_result"
    }
   ],
   "source": [
    "'''clf.fit(X, y)'''"
   ]
  },
  {
   "cell_type": "code",
   "execution_count": 43,
   "id": "e07afb89",
   "metadata": {},
   "outputs": [
    {
     "data": {
      "text/plain": [
       "'print(clf.best_params_)'"
      ]
     },
     "execution_count": 43,
     "metadata": {},
     "output_type": "execute_result"
    }
   ],
   "source": [
    "'''print(clf.best_params_)'''"
   ]
  },
  {
   "cell_type": "code",
   "execution_count": null,
   "id": "5af07ffc",
   "metadata": {},
   "outputs": [],
   "source": []
  },
  {
   "cell_type": "code",
   "execution_count": 44,
   "id": "ceea785f",
   "metadata": {},
   "outputs": [
    {
     "data": {
      "text/plain": [
       "'param_grid = {\\n    \"max_depth\": [3,5,7],\\n    \"n_estimators\": [120,150,170],\\n     \"min_samples_split\":[3,4,5],\\n     \"min_samples_leaf\":[2,10]\\n}'"
      ]
     },
     "execution_count": 44,
     "metadata": {},
     "output_type": "execute_result"
    }
   ],
   "source": [
    "'''param_grid = {\n",
    "    \"max_depth\": [3,5,7],\n",
    "    \"n_estimators\": [120,150,170],\n",
    "     \"min_samples_split\":[3,4,5],\n",
    "     \"min_samples_leaf\":[2,10]\n",
    "}'''"
   ]
  },
  {
   "cell_type": "code",
   "execution_count": 45,
   "id": "f41b0656",
   "metadata": {},
   "outputs": [
    {
     "data": {
      "text/plain": [
       "'clf = GridSearchCV(RandomForestRegressor(), param_grid, cv=5)'"
      ]
     },
     "execution_count": 45,
     "metadata": {},
     "output_type": "execute_result"
    }
   ],
   "source": [
    "'''clf = GridSearchCV(RandomForestRegressor(), param_grid, cv=5)'''"
   ]
  },
  {
   "cell_type": "code",
   "execution_count": 46,
   "id": "a98604b6",
   "metadata": {},
   "outputs": [
    {
     "data": {
      "text/plain": [
       "'clf.fit(X, y)'"
      ]
     },
     "execution_count": 46,
     "metadata": {},
     "output_type": "execute_result"
    }
   ],
   "source": [
    "'''clf.fit(X, y)'''"
   ]
  },
  {
   "cell_type": "code",
   "execution_count": 47,
   "id": "eefdd042",
   "metadata": {},
   "outputs": [
    {
     "data": {
      "text/plain": [
       "'print(clf.best_params_)'"
      ]
     },
     "execution_count": 47,
     "metadata": {},
     "output_type": "execute_result"
    }
   ],
   "source": [
    "'''print(clf.best_params_)'''"
   ]
  },
  {
   "cell_type": "code",
   "execution_count": null,
   "id": "90dd21fc",
   "metadata": {},
   "outputs": [],
   "source": []
  },
  {
   "cell_type": "code",
   "execution_count": 48,
   "id": "ec8790b6",
   "metadata": {},
   "outputs": [
    {
     "data": {
      "text/plain": [
       "'param_grid = {\\n    \"max_depth\": [4,5,6],\\n    \"n_estimators\": [140,150,160],\\n     \"min_samples_split\":[5,10,15],\\n     \"min_samples_leaf\":[8,10,15,20]\\n}\\n'"
      ]
     },
     "execution_count": 48,
     "metadata": {},
     "output_type": "execute_result"
    }
   ],
   "source": [
    "'''param_grid = {\n",
    "    \"max_depth\": [4,5,6],\n",
    "    \"n_estimators\": [140,150,160],\n",
    "     \"min_samples_split\":[5,10,15],\n",
    "     \"min_samples_leaf\":[8,10,15,20]\n",
    "}\n",
    "'''"
   ]
  },
  {
   "cell_type": "code",
   "execution_count": 49,
   "id": "57e8b51e",
   "metadata": {},
   "outputs": [
    {
     "data": {
      "text/plain": [
       "'clf = GridSearchCV(RandomForestRegressor(), param_grid, cv=5)'"
      ]
     },
     "execution_count": 49,
     "metadata": {},
     "output_type": "execute_result"
    }
   ],
   "source": [
    "'''clf = GridSearchCV(RandomForestRegressor(), param_grid, cv=5)'''"
   ]
  },
  {
   "cell_type": "code",
   "execution_count": 50,
   "id": "f79ccb01",
   "metadata": {},
   "outputs": [
    {
     "data": {
      "text/plain": [
       "'clf.fit(X, y)'"
      ]
     },
     "execution_count": 50,
     "metadata": {},
     "output_type": "execute_result"
    }
   ],
   "source": [
    "'''clf.fit(X, y)'''"
   ]
  },
  {
   "cell_type": "code",
   "execution_count": 51,
   "id": "72cbc60d",
   "metadata": {},
   "outputs": [
    {
     "data": {
      "text/plain": [
       "'print(clf.best_params_)'"
      ]
     },
     "execution_count": 51,
     "metadata": {},
     "output_type": "execute_result"
    }
   ],
   "source": [
    "'''print(clf.best_params_)'''"
   ]
  },
  {
   "cell_type": "code",
   "execution_count": null,
   "id": "53ef846f",
   "metadata": {},
   "outputs": [],
   "source": []
  },
  {
   "cell_type": "code",
   "execution_count": 52,
   "id": "f3f10cf0",
   "metadata": {},
   "outputs": [
    {
     "data": {
      "text/plain": [
       "'param_grid = {\\n    \"max_depth\": [6,10,15],\\n    \"n_estimators\": [145,150,155],\\n     \"min_samples_split\":[9,10,11],\\n     \"min_samples_leaf\":[20,30,40,50]\\n}'"
      ]
     },
     "execution_count": 52,
     "metadata": {},
     "output_type": "execute_result"
    }
   ],
   "source": [
    "'''param_grid = {\n",
    "    \"max_depth\": [6,10,15],\n",
    "    \"n_estimators\": [145,150,155],\n",
    "     \"min_samples_split\":[9,10,11],\n",
    "     \"min_samples_leaf\":[20,30,40,50]\n",
    "}'''"
   ]
  },
  {
   "cell_type": "code",
   "execution_count": 53,
   "id": "08989581",
   "metadata": {},
   "outputs": [
    {
     "data": {
      "text/plain": [
       "'clf = GridSearchCV(RandomForestRegressor(), param_grid, cv=5)'"
      ]
     },
     "execution_count": 53,
     "metadata": {},
     "output_type": "execute_result"
    }
   ],
   "source": [
    "'''clf = GridSearchCV(RandomForestRegressor(), param_grid, cv=5)'''"
   ]
  },
  {
   "cell_type": "code",
   "execution_count": 54,
   "id": "2dea385e",
   "metadata": {},
   "outputs": [
    {
     "data": {
      "text/plain": [
       "'clf.fit(X, y)'"
      ]
     },
     "execution_count": 54,
     "metadata": {},
     "output_type": "execute_result"
    }
   ],
   "source": [
    "'''clf.fit(X, y)'''"
   ]
  },
  {
   "cell_type": "code",
   "execution_count": 55,
   "id": "c7715846",
   "metadata": {},
   "outputs": [
    {
     "data": {
      "text/plain": [
       "'print(clf.best_params_)'"
      ]
     },
     "execution_count": 55,
     "metadata": {},
     "output_type": "execute_result"
    }
   ],
   "source": [
    "'''print(clf.best_params_)'''"
   ]
  },
  {
   "cell_type": "code",
   "execution_count": null,
   "id": "977ac977",
   "metadata": {},
   "outputs": [],
   "source": []
  },
  {
   "cell_type": "code",
   "execution_count": null,
   "id": "cbc5ec69",
   "metadata": {},
   "outputs": [],
   "source": []
  },
  {
   "cell_type": "code",
   "execution_count": 56,
   "id": "497ce659",
   "metadata": {},
   "outputs": [],
   "source": [
    "n_features = int(sqrt(df.shape[1]))\n",
    "model = RandomForestRegressor(n_estimators=150, max_depth=6, min_samples_split=20, min_samples_leaf=10, max_features=n_features)"
   ]
  },
  {
   "cell_type": "code",
   "execution_count": 57,
   "id": "c919fb3d",
   "metadata": {},
   "outputs": [],
   "source": [
    "model = RandomForestRegressor()"
   ]
  },
  {
   "cell_type": "code",
   "execution_count": 58,
   "id": "ecd545c8",
   "metadata": {},
   "outputs": [
    {
     "name": "stderr",
     "output_type": "stream",
     "text": [
      "C:\\Users\\tjoeun\\AppData\\Local\\Temp\\ipykernel_15880\\2489992722.py:1: DataConversionWarning: A column-vector y was passed when a 1d array was expected. Please change the shape of y to (n_samples,), for example using ravel().\n",
      "  model.fit(X, y)\n"
     ]
    },
    {
     "data": {
      "text/html": [
       "<style>#sk-container-id-1 {color: black;background-color: white;}#sk-container-id-1 pre{padding: 0;}#sk-container-id-1 div.sk-toggleable {background-color: white;}#sk-container-id-1 label.sk-toggleable__label {cursor: pointer;display: block;width: 100%;margin-bottom: 0;padding: 0.3em;box-sizing: border-box;text-align: center;}#sk-container-id-1 label.sk-toggleable__label-arrow:before {content: \"▸\";float: left;margin-right: 0.25em;color: #696969;}#sk-container-id-1 label.sk-toggleable__label-arrow:hover:before {color: black;}#sk-container-id-1 div.sk-estimator:hover label.sk-toggleable__label-arrow:before {color: black;}#sk-container-id-1 div.sk-toggleable__content {max-height: 0;max-width: 0;overflow: hidden;text-align: left;background-color: #f0f8ff;}#sk-container-id-1 div.sk-toggleable__content pre {margin: 0.2em;color: black;border-radius: 0.25em;background-color: #f0f8ff;}#sk-container-id-1 input.sk-toggleable__control:checked~div.sk-toggleable__content {max-height: 200px;max-width: 100%;overflow: auto;}#sk-container-id-1 input.sk-toggleable__control:checked~label.sk-toggleable__label-arrow:before {content: \"▾\";}#sk-container-id-1 div.sk-estimator input.sk-toggleable__control:checked~label.sk-toggleable__label {background-color: #d4ebff;}#sk-container-id-1 div.sk-label input.sk-toggleable__control:checked~label.sk-toggleable__label {background-color: #d4ebff;}#sk-container-id-1 input.sk-hidden--visually {border: 0;clip: rect(1px 1px 1px 1px);clip: rect(1px, 1px, 1px, 1px);height: 1px;margin: -1px;overflow: hidden;padding: 0;position: absolute;width: 1px;}#sk-container-id-1 div.sk-estimator {font-family: monospace;background-color: #f0f8ff;border: 1px dotted black;border-radius: 0.25em;box-sizing: border-box;margin-bottom: 0.5em;}#sk-container-id-1 div.sk-estimator:hover {background-color: #d4ebff;}#sk-container-id-1 div.sk-parallel-item::after {content: \"\";width: 100%;border-bottom: 1px solid gray;flex-grow: 1;}#sk-container-id-1 div.sk-label:hover label.sk-toggleable__label {background-color: #d4ebff;}#sk-container-id-1 div.sk-serial::before {content: \"\";position: absolute;border-left: 1px solid gray;box-sizing: border-box;top: 0;bottom: 0;left: 50%;z-index: 0;}#sk-container-id-1 div.sk-serial {display: flex;flex-direction: column;align-items: center;background-color: white;padding-right: 0.2em;padding-left: 0.2em;position: relative;}#sk-container-id-1 div.sk-item {position: relative;z-index: 1;}#sk-container-id-1 div.sk-parallel {display: flex;align-items: stretch;justify-content: center;background-color: white;position: relative;}#sk-container-id-1 div.sk-item::before, #sk-container-id-1 div.sk-parallel-item::before {content: \"\";position: absolute;border-left: 1px solid gray;box-sizing: border-box;top: 0;bottom: 0;left: 50%;z-index: -1;}#sk-container-id-1 div.sk-parallel-item {display: flex;flex-direction: column;z-index: 1;position: relative;background-color: white;}#sk-container-id-1 div.sk-parallel-item:first-child::after {align-self: flex-end;width: 50%;}#sk-container-id-1 div.sk-parallel-item:last-child::after {align-self: flex-start;width: 50%;}#sk-container-id-1 div.sk-parallel-item:only-child::after {width: 0;}#sk-container-id-1 div.sk-dashed-wrapped {border: 1px dashed gray;margin: 0 0.4em 0.5em 0.4em;box-sizing: border-box;padding-bottom: 0.4em;background-color: white;}#sk-container-id-1 div.sk-label label {font-family: monospace;font-weight: bold;display: inline-block;line-height: 1.2em;}#sk-container-id-1 div.sk-label-container {text-align: center;}#sk-container-id-1 div.sk-container {/* jupyter's `normalize.less` sets `[hidden] { display: none; }` but bootstrap.min.css set `[hidden] { display: none !important; }` so we also need the `!important` here to be able to override the default hidden behavior on the sphinx rendered scikit-learn.org. See: https://github.com/scikit-learn/scikit-learn/issues/21755 */display: inline-block !important;position: relative;}#sk-container-id-1 div.sk-text-repr-fallback {display: none;}</style><div id=\"sk-container-id-1\" class=\"sk-top-container\"><div class=\"sk-text-repr-fallback\"><pre>RandomForestRegressor()</pre><b>In a Jupyter environment, please rerun this cell to show the HTML representation or trust the notebook. <br />On GitHub, the HTML representation is unable to render, please try loading this page with nbviewer.org.</b></div><div class=\"sk-container\" hidden><div class=\"sk-item\"><div class=\"sk-estimator sk-toggleable\"><input class=\"sk-toggleable__control sk-hidden--visually\" id=\"sk-estimator-id-1\" type=\"checkbox\" checked><label for=\"sk-estimator-id-1\" class=\"sk-toggleable__label sk-toggleable__label-arrow\">RandomForestRegressor</label><div class=\"sk-toggleable__content\"><pre>RandomForestRegressor()</pre></div></div></div></div></div>"
      ],
      "text/plain": [
       "RandomForestRegressor()"
      ]
     },
     "execution_count": 58,
     "metadata": {},
     "output_type": "execute_result"
    }
   ],
   "source": [
    "model.fit(X, y)"
   ]
  },
  {
   "cell_type": "code",
   "execution_count": 59,
   "id": "ade151cb",
   "metadata": {},
   "outputs": [],
   "source": [
    "test = pd.read_csv('../power/test.csv')"
   ]
  },
  {
   "cell_type": "code",
   "execution_count": 60,
   "id": "72438663",
   "metadata": {},
   "outputs": [
    {
     "data": {
      "text/html": [
       "<div>\n",
       "<style scoped>\n",
       "    .dataframe tbody tr th:only-of-type {\n",
       "        vertical-align: middle;\n",
       "    }\n",
       "\n",
       "    .dataframe tbody tr th {\n",
       "        vertical-align: top;\n",
       "    }\n",
       "\n",
       "    .dataframe thead th {\n",
       "        text-align: right;\n",
       "    }\n",
       "</style>\n",
       "<table border=\"1\" class=\"dataframe\">\n",
       "  <thead>\n",
       "    <tr style=\"text-align: right;\">\n",
       "      <th></th>\n",
       "      <th>num_date_time</th>\n",
       "      <th>건물번호</th>\n",
       "      <th>일시</th>\n",
       "      <th>기온(C)</th>\n",
       "      <th>강수량(mm)</th>\n",
       "      <th>풍속(m/s)</th>\n",
       "      <th>습도(%)</th>\n",
       "    </tr>\n",
       "  </thead>\n",
       "  <tbody>\n",
       "    <tr>\n",
       "      <th>0</th>\n",
       "      <td>1_20220825 00</td>\n",
       "      <td>1</td>\n",
       "      <td>20220825 00</td>\n",
       "      <td>23.5</td>\n",
       "      <td>0.0</td>\n",
       "      <td>2.2</td>\n",
       "      <td>72</td>\n",
       "    </tr>\n",
       "    <tr>\n",
       "      <th>1</th>\n",
       "      <td>1_20220825 01</td>\n",
       "      <td>1</td>\n",
       "      <td>20220825 01</td>\n",
       "      <td>23.0</td>\n",
       "      <td>0.0</td>\n",
       "      <td>0.9</td>\n",
       "      <td>72</td>\n",
       "    </tr>\n",
       "    <tr>\n",
       "      <th>2</th>\n",
       "      <td>1_20220825 02</td>\n",
       "      <td>1</td>\n",
       "      <td>20220825 02</td>\n",
       "      <td>22.7</td>\n",
       "      <td>0.0</td>\n",
       "      <td>1.5</td>\n",
       "      <td>75</td>\n",
       "    </tr>\n",
       "    <tr>\n",
       "      <th>3</th>\n",
       "      <td>1_20220825 03</td>\n",
       "      <td>1</td>\n",
       "      <td>20220825 03</td>\n",
       "      <td>22.1</td>\n",
       "      <td>0.0</td>\n",
       "      <td>1.3</td>\n",
       "      <td>78</td>\n",
       "    </tr>\n",
       "    <tr>\n",
       "      <th>4</th>\n",
       "      <td>1_20220825 04</td>\n",
       "      <td>1</td>\n",
       "      <td>20220825 04</td>\n",
       "      <td>21.8</td>\n",
       "      <td>0.0</td>\n",
       "      <td>1.0</td>\n",
       "      <td>77</td>\n",
       "    </tr>\n",
       "  </tbody>\n",
       "</table>\n",
       "</div>"
      ],
      "text/plain": [
       "   num_date_time  건물번호           일시  기온(C)  강수량(mm)  풍속(m/s)  습도(%)\n",
       "0  1_20220825 00     1  20220825 00   23.5      0.0      2.2     72\n",
       "1  1_20220825 01     1  20220825 01   23.0      0.0      0.9     72\n",
       "2  1_20220825 02     1  20220825 02   22.7      0.0      1.5     75\n",
       "3  1_20220825 03     1  20220825 03   22.1      0.0      1.3     78\n",
       "4  1_20220825 04     1  20220825 04   21.8      0.0      1.0     77"
      ]
     },
     "execution_count": 60,
     "metadata": {},
     "output_type": "execute_result"
    }
   ],
   "source": [
    "test.head()"
   ]
  },
  {
   "cell_type": "code",
   "execution_count": 61,
   "id": "070b389f",
   "metadata": {},
   "outputs": [],
   "source": [
    "test['연도'] = test['일시'].apply(lambda x : int(x[:4]))\n",
    "test['월'] = test['일시'].apply(lambda x : int(x[4:6]))\n",
    "test['일'] = test['일시'].apply(lambda x : int(x[6:8]))\n",
    "test['시간'] = test['일시'].apply(lambda x : int(x[9:11]))"
   ]
  },
  {
   "cell_type": "code",
   "execution_count": 62,
   "id": "3c01273a",
   "metadata": {},
   "outputs": [],
   "source": [
    "test = test.drop(['일시','num_date_time','연도'], axis=1)"
   ]
  },
  {
   "cell_type": "code",
   "execution_count": 63,
   "id": "f8204946",
   "metadata": {},
   "outputs": [
    {
     "data": {
      "text/html": [
       "<div>\n",
       "<style scoped>\n",
       "    .dataframe tbody tr th:only-of-type {\n",
       "        vertical-align: middle;\n",
       "    }\n",
       "\n",
       "    .dataframe tbody tr th {\n",
       "        vertical-align: top;\n",
       "    }\n",
       "\n",
       "    .dataframe thead th {\n",
       "        text-align: right;\n",
       "    }\n",
       "</style>\n",
       "<table border=\"1\" class=\"dataframe\">\n",
       "  <thead>\n",
       "    <tr style=\"text-align: right;\">\n",
       "      <th></th>\n",
       "      <th>건물번호</th>\n",
       "      <th>기온(C)</th>\n",
       "      <th>강수량(mm)</th>\n",
       "      <th>풍속(m/s)</th>\n",
       "      <th>습도(%)</th>\n",
       "      <th>월</th>\n",
       "      <th>일</th>\n",
       "      <th>시간</th>\n",
       "    </tr>\n",
       "  </thead>\n",
       "  <tbody>\n",
       "    <tr>\n",
       "      <th>0</th>\n",
       "      <td>1</td>\n",
       "      <td>23.5</td>\n",
       "      <td>0.0</td>\n",
       "      <td>2.2</td>\n",
       "      <td>72</td>\n",
       "      <td>8</td>\n",
       "      <td>25</td>\n",
       "      <td>0</td>\n",
       "    </tr>\n",
       "    <tr>\n",
       "      <th>1</th>\n",
       "      <td>1</td>\n",
       "      <td>23.0</td>\n",
       "      <td>0.0</td>\n",
       "      <td>0.9</td>\n",
       "      <td>72</td>\n",
       "      <td>8</td>\n",
       "      <td>25</td>\n",
       "      <td>1</td>\n",
       "    </tr>\n",
       "    <tr>\n",
       "      <th>2</th>\n",
       "      <td>1</td>\n",
       "      <td>22.7</td>\n",
       "      <td>0.0</td>\n",
       "      <td>1.5</td>\n",
       "      <td>75</td>\n",
       "      <td>8</td>\n",
       "      <td>25</td>\n",
       "      <td>2</td>\n",
       "    </tr>\n",
       "    <tr>\n",
       "      <th>3</th>\n",
       "      <td>1</td>\n",
       "      <td>22.1</td>\n",
       "      <td>0.0</td>\n",
       "      <td>1.3</td>\n",
       "      <td>78</td>\n",
       "      <td>8</td>\n",
       "      <td>25</td>\n",
       "      <td>3</td>\n",
       "    </tr>\n",
       "    <tr>\n",
       "      <th>4</th>\n",
       "      <td>1</td>\n",
       "      <td>21.8</td>\n",
       "      <td>0.0</td>\n",
       "      <td>1.0</td>\n",
       "      <td>77</td>\n",
       "      <td>8</td>\n",
       "      <td>25</td>\n",
       "      <td>4</td>\n",
       "    </tr>\n",
       "  </tbody>\n",
       "</table>\n",
       "</div>"
      ],
      "text/plain": [
       "   건물번호  기온(C)  강수량(mm)  풍속(m/s)  습도(%)  월   일  시간\n",
       "0     1   23.5      0.0      2.2     72  8  25   0\n",
       "1     1   23.0      0.0      0.9     72  8  25   1\n",
       "2     1   22.7      0.0      1.5     75  8  25   2\n",
       "3     1   22.1      0.0      1.3     78  8  25   3\n",
       "4     1   21.8      0.0      1.0     77  8  25   4"
      ]
     },
     "execution_count": 63,
     "metadata": {},
     "output_type": "execute_result"
    }
   ],
   "source": [
    "test.head()"
   ]
  },
  {
   "cell_type": "code",
   "execution_count": 64,
   "id": "1ff51514",
   "metadata": {},
   "outputs": [],
   "source": [
    "test = test[[\"월\",\"일\", \"시간\", \"건물번호\",\"기온(C)\", \"강수량(mm)\", \"풍속(m/s)\", \"습도(%)\"]]"
   ]
  },
  {
   "cell_type": "code",
   "execution_count": 65,
   "id": "75a5434a",
   "metadata": {},
   "outputs": [],
   "source": [
    "# 정규화하기\n",
    "# MinMaxScaler 클래스 생성\n",
    "scaler = MinMaxScaler()\n",
    "\n",
    "# MinMaxScaler 클래스의 fit_transform() 메서드 사용 데이터 정규화\n",
    "normalized_data = scaler.fit_transform(test)\n",
    "\n",
    "# 정규화된 데이터, 데이터 프레임으로 다시 변환\n",
    "tndf = pd.DataFrame(normalized_data, columns=test.columns)"
   ]
  },
  {
   "cell_type": "code",
   "execution_count": 66,
   "id": "41dd242b",
   "metadata": {},
   "outputs": [],
   "source": [
    "#예측하기\n",
    "test_pred = model.predict(tndf)"
   ]
  },
  {
   "cell_type": "code",
   "execution_count": 67,
   "id": "42a8deed",
   "metadata": {},
   "outputs": [],
   "source": [
    "tndf['pred']=test_pred"
   ]
  },
  {
   "cell_type": "code",
   "execution_count": 68,
   "id": "43b5151a",
   "metadata": {},
   "outputs": [],
   "source": [
    "# 역정규화\n",
    "min_value = 0.0\n",
    "max_value = 25488.4\n",
    "tndf['real_pred'] = tndf['pred'] * (max_value - min_value) + min_value "
   ]
  },
  {
   "cell_type": "code",
   "execution_count": 69,
   "id": "811f91ce",
   "metadata": {},
   "outputs": [
    {
     "data": {
      "text/html": [
       "<div>\n",
       "<style scoped>\n",
       "    .dataframe tbody tr th:only-of-type {\n",
       "        vertical-align: middle;\n",
       "    }\n",
       "\n",
       "    .dataframe tbody tr th {\n",
       "        vertical-align: top;\n",
       "    }\n",
       "\n",
       "    .dataframe thead th {\n",
       "        text-align: right;\n",
       "    }\n",
       "</style>\n",
       "<table border=\"1\" class=\"dataframe\">\n",
       "  <thead>\n",
       "    <tr style=\"text-align: right;\">\n",
       "      <th></th>\n",
       "      <th>num_date_time</th>\n",
       "      <th>answer</th>\n",
       "    </tr>\n",
       "  </thead>\n",
       "  <tbody>\n",
       "    <tr>\n",
       "      <th>0</th>\n",
       "      <td>1_20220825 00</td>\n",
       "      <td>1202.0064</td>\n",
       "    </tr>\n",
       "    <tr>\n",
       "      <th>1</th>\n",
       "      <td>1_20220825 01</td>\n",
       "      <td>919.7856</td>\n",
       "    </tr>\n",
       "    <tr>\n",
       "      <th>2</th>\n",
       "      <td>1_20220825 02</td>\n",
       "      <td>876.7200</td>\n",
       "    </tr>\n",
       "    <tr>\n",
       "      <th>3</th>\n",
       "      <td>1_20220825 03</td>\n",
       "      <td>863.7600</td>\n",
       "    </tr>\n",
       "    <tr>\n",
       "      <th>4</th>\n",
       "      <td>1_20220825 04</td>\n",
       "      <td>871.1376</td>\n",
       "    </tr>\n",
       "  </tbody>\n",
       "</table>\n",
       "</div>"
      ],
      "text/plain": [
       "   num_date_time     answer\n",
       "0  1_20220825 00  1202.0064\n",
       "1  1_20220825 01   919.7856\n",
       "2  1_20220825 02   876.7200\n",
       "3  1_20220825 03   863.7600\n",
       "4  1_20220825 04   871.1376"
      ]
     },
     "execution_count": 69,
     "metadata": {},
     "output_type": "execute_result"
    }
   ],
   "source": [
    "#제출\n",
    "submission = pd.read_csv('../power/sample_submission.csv')\n",
    "submission['answer'] = tndf['real_pred']\n",
    "submission.head()"
   ]
  },
  {
   "cell_type": "code",
   "execution_count": 70,
   "id": "f455119f",
   "metadata": {},
   "outputs": [],
   "source": [
    "submission.to_csv('../power/power9.csv', index=  False)"
   ]
  },
  {
   "cell_type": "code",
   "execution_count": null,
   "id": "0e7c7a87",
   "metadata": {},
   "outputs": [],
   "source": []
  }
 ],
 "metadata": {
  "kernelspec": {
   "display_name": "Python [conda env:tf_cpu] *",
   "language": "python",
   "name": "conda-env-tf_cpu-py"
  },
  "language_info": {
   "codemirror_mode": {
    "name": "ipython",
    "version": 3
   },
   "file_extension": ".py",
   "mimetype": "text/x-python",
   "name": "python",
   "nbconvert_exporter": "python",
   "pygments_lexer": "ipython3",
   "version": "3.8.16"
  }
 },
 "nbformat": 4,
 "nbformat_minor": 5
}
