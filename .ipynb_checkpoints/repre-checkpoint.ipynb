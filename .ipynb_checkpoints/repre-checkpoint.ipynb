{
 "cells": [
  {
   "cell_type": "code",
   "execution_count": 316,
   "id": "37b72c42",
   "metadata": {},
   "outputs": [],
   "source": [
    "import pandas as pd\n",
    "import numpy as np\n",
    "import matplotlib.pyplot as plt\n",
    "import seaborn as sns\n",
    "\n",
    "from sklearn.ensemble import RandomForestRegressor\n",
    "\n",
    "from sklearn.preprocessing import MinMaxScaler\n",
    "from sklearn.model_selection import GridSearchCV\n",
    "\n",
    "from tensorflow import keras\n",
    "from tensorflow.keras.models import Sequential\n",
    "import tensorflow as tf\n",
    "\n",
    "from sklearn.model_selection import train_test_split\n",
    "from tensorflow.keras.layers import LSTM, Dense\n",
    "from sklearn.metrics import mean_squared_error, r2_score,mean_absolute_error"
   ]
  },
  {
   "cell_type": "code",
   "execution_count": 317,
   "id": "da3fb54b",
   "metadata": {},
   "outputs": [],
   "source": [
    "df= pd.read_csv('../power/train.csv')"
   ]
  },
  {
   "cell_type": "code",
   "execution_count": 318,
   "id": "7549560e",
   "metadata": {},
   "outputs": [],
   "source": [
    "df['강수량(mm)'] = df['강수량(mm)'].fillna(0.0)"
   ]
  },
  {
   "cell_type": "code",
   "execution_count": 319,
   "id": "230c10f0",
   "metadata": {},
   "outputs": [],
   "source": [
    "df.loc[df[\"num_date_time\"] == \"15_20220806 17\", \"풍속(m/s)\"] = (2.7 + 2.4) / 2"
   ]
  },
  {
   "cell_type": "code",
   "execution_count": 320,
   "id": "22d29bfe",
   "metadata": {},
   "outputs": [],
   "source": [
    "df.loc[df[\"num_date_time\"] == \"26_20220627 16\", \"풍속(m/s)\"] = (1.0 + 0.75) / 2"
   ]
  },
  {
   "cell_type": "code",
   "execution_count": 321,
   "id": "929124e4",
   "metadata": {},
   "outputs": [],
   "source": [
    "df.loc[df[\"num_date_time\"] == \"97_20220806 15\", \"풍속(m/s)\"] = (5.0 + 3.0) / 2\n",
    "df.loc[df[\"num_date_time\"] == \"97_20220806 16\", \"풍속(m/s)\"] = (5.0 + 3.0) / 2"
   ]
  },
  {
   "cell_type": "code",
   "execution_count": 322,
   "id": "5aca0ca8",
   "metadata": {},
   "outputs": [],
   "source": [
    "df.loc[df[\"num_date_time\"] == \"9_20220614 11\", \"풍속(m/s)\"] = (3.8 + 4.6) / 2"
   ]
  },
  {
   "cell_type": "code",
   "execution_count": 323,
   "id": "c5e7aeca",
   "metadata": {},
   "outputs": [],
   "source": [
    "df.loc[df[\"num_date_time\"] == \"16_20220803 15\", \"풍속(m/s)\"] = (3.9 + 3.8) / 2"
   ]
  },
  {
   "cell_type": "code",
   "execution_count": 324,
   "id": "32aeb845",
   "metadata": {},
   "outputs": [],
   "source": [
    "df.loc[df[\"num_date_time\"] == \"26_20220627 17\", \"풍속(m/s)\"] = (1.0 + 0.5) / 2"
   ]
  },
  {
   "cell_type": "code",
   "execution_count": 325,
   "id": "b4b7ee1f",
   "metadata": {},
   "outputs": [],
   "source": [
    "df.loc[df[\"num_date_time\"] == \"26_20220709 09\", \"풍속(m/s)\"] = (0.0 + 1.0) / 2"
   ]
  },
  {
   "cell_type": "code",
   "execution_count": 326,
   "id": "43b108b6",
   "metadata": {},
   "outputs": [],
   "source": [
    "df.loc[df[\"num_date_time\"] == \"42_20220703 10\", \"풍속(m/s)\"] = (0.9 + 1.7) / 2"
   ]
  },
  {
   "cell_type": "code",
   "execution_count": 327,
   "id": "08be655d",
   "metadata": {},
   "outputs": [],
   "source": [
    "df.loc[df[\"num_date_time\"] == \"50_20220703 10\", \"풍속(m/s)\"] = (0.9 + 1.7) / 2"
   ]
  },
  {
   "cell_type": "code",
   "execution_count": 328,
   "id": "3cecb080",
   "metadata": {},
   "outputs": [],
   "source": [
    "df.loc[df[\"num_date_time\"] == \"52_20220806 15\", \"풍속(m/s)\"] = (5.0 + 3.0) / 2\n",
    "df.loc[df[\"num_date_time\"] == \"52_20220806 16\", \"풍속(m/s)\"] = (5.0 + 3.0) / 2"
   ]
  },
  {
   "cell_type": "code",
   "execution_count": 329,
   "id": "7d2dc47a",
   "metadata": {},
   "outputs": [],
   "source": [
    "df.loc[df[\"num_date_time\"] == \"87_20220714 05\", \"풍속(m/s)\"] = (1.4 + 1.3) / 2\n",
    "df.loc[df[\"num_date_time\"] == \"87_20220714 06\", \"풍속(m/s)\"] = (1.4 + 1.3) / 2\n",
    "df.loc[df[\"num_date_time\"] == \"87_20220714 07\", \"풍속(m/s)\"] = (1.4 + 1.3) / 2\n",
    "df.loc[df[\"num_date_time\"] == \"87_20220714 08\", \"풍속(m/s)\"] = (1.4 + 1.3) / 2\n",
    "df.loc[df[\"num_date_time\"] == \"87_20220714 09\", \"풍속(m/s)\"] = (1.4 + 1.3) / 2"
   ]
  },
  {
   "cell_type": "code",
   "execution_count": 330,
   "id": "466cd659",
   "metadata": {},
   "outputs": [],
   "source": [
    "df.loc[df[\"num_date_time\"] == \"90_20220806 17\", \"풍속(m/s)\"] = (1.3 + 2.7) / 2"
   ]
  },
  {
   "cell_type": "code",
   "execution_count": 331,
   "id": "0ae7b2a2",
   "metadata": {},
   "outputs": [],
   "source": [
    "df.loc[df[\"num_date_time\"] == \"90_20220806 15\", \"풍속(m/s)\"] = (5.0 + 3.0) / 2\n",
    "df.loc[df[\"num_date_time\"] == \"90_20220806 16\", \"풍속(m/s)\"] = (5.0 + 3.0) / 2"
   ]
  },
  {
   "cell_type": "code",
   "execution_count": 332,
   "id": "c53514d9",
   "metadata": {},
   "outputs": [],
   "source": [
    "df.loc[df[\"num_date_time\"] == \"100_20220608 15\", \"풍속(m/s)\"] = (1.9 + 1.6) / 2"
   ]
  },
  {
   "cell_type": "code",
   "execution_count": 333,
   "id": "bfa7091b",
   "metadata": {},
   "outputs": [],
   "source": [
    "df.loc[df[\"num_date_time\"] == \"100_20220723 03\", \"풍속(m/s)\"] = (0.0 + 0.0) / 2"
   ]
  },
  {
   "cell_type": "code",
   "execution_count": 334,
   "id": "e392efbb",
   "metadata": {},
   "outputs": [],
   "source": [
    "df.loc[df[\"num_date_time\"] == \"9_20220614 11\", \"습도(%)\"] = (94.0 + 91.0) / 2"
   ]
  },
  {
   "cell_type": "code",
   "execution_count": 335,
   "id": "acbb6548",
   "metadata": {},
   "outputs": [],
   "source": [
    "df.loc[df[\"num_date_time\"] == \"9_20220614 11\", \"습도(%)\"] = (54.0 + 92.0) / 2"
   ]
  },
  {
   "cell_type": "code",
   "execution_count": 336,
   "id": "afeace43",
   "metadata": {},
   "outputs": [],
   "source": [
    "df.loc[df[\"num_date_time\"] == \"87_20220714 05\", \"습도(%)\"] = (100.0 + 90.0) / 2\n",
    "df.loc[df[\"num_date_time\"] == \"87_20220714 06\", \"습도(%)\"] = (100.0 + 90.0) / 2\n",
    "df.loc[df[\"num_date_time\"] == \"87_20220714 07\", \"습도(%)\"] = (100.0 + 90.0) / 2\n",
    "df.loc[df[\"num_date_time\"] == \"87_20220714 08\", \"습도(%)\"] = (100.0 + 90.0) / 2\n",
    "df.loc[df[\"num_date_time\"] == \"87_20220714 09\", \"습도(%)\"] = (100.0 + 90.0) / 2"
   ]
  },
  {
   "cell_type": "code",
   "execution_count": 337,
   "id": "349c9180",
   "metadata": {},
   "outputs": [],
   "source": [
    "df.loc[df[\"num_date_time\"] == \"90_20220806 17\", \"습도(%)\"] = (54.0 + 56.0) / 2"
   ]
  },
  {
   "cell_type": "code",
   "execution_count": 338,
   "id": "cc30766b",
   "metadata": {},
   "outputs": [],
   "source": [
    "df.loc[df[\"num_date_time\"] == \"100_20220608 15\", \"습도(%)\"] = (52.0 + 53.0) / 2"
   ]
  },
  {
   "cell_type": "code",
   "execution_count": 339,
   "id": "82a98a4e",
   "metadata": {},
   "outputs": [],
   "source": [
    "df.loc[df[\"num_date_time\"] == \"15_20220806 17\", \"습도(%)\"] = (54.0 + 56.0) / 2"
   ]
  },
  {
   "cell_type": "code",
   "execution_count": 340,
   "id": "dd194edd",
   "metadata": {},
   "outputs": [],
   "source": [
    "df['일조(hr)'].fillna(round(df['일조(hr)'].mean(),2), inplace=True)"
   ]
  },
  {
   "cell_type": "code",
   "execution_count": 341,
   "id": "79f5172a",
   "metadata": {},
   "outputs": [],
   "source": [
    "df['일사(MJ/m2)'].fillna(round(df['일사(MJ/m2)'].mean(),2), inplace=True)"
   ]
  },
  {
   "cell_type": "code",
   "execution_count": 342,
   "id": "1dccf83e",
   "metadata": {},
   "outputs": [],
   "source": [
    "df = df.drop(['num_date_time'], axis=1)"
   ]
  },
  {
   "cell_type": "code",
   "execution_count": 343,
   "id": "cfe1d888",
   "metadata": {},
   "outputs": [
    {
     "data": {
      "text/html": [
       "<div>\n",
       "<style scoped>\n",
       "    .dataframe tbody tr th:only-of-type {\n",
       "        vertical-align: middle;\n",
       "    }\n",
       "\n",
       "    .dataframe tbody tr th {\n",
       "        vertical-align: top;\n",
       "    }\n",
       "\n",
       "    .dataframe thead th {\n",
       "        text-align: right;\n",
       "    }\n",
       "</style>\n",
       "<table border=\"1\" class=\"dataframe\">\n",
       "  <thead>\n",
       "    <tr style=\"text-align: right;\">\n",
       "      <th></th>\n",
       "      <th>건물번호</th>\n",
       "      <th>일시</th>\n",
       "      <th>기온(C)</th>\n",
       "      <th>강수량(mm)</th>\n",
       "      <th>풍속(m/s)</th>\n",
       "      <th>습도(%)</th>\n",
       "      <th>일조(hr)</th>\n",
       "      <th>일사(MJ/m2)</th>\n",
       "      <th>전력소비량(kWh)</th>\n",
       "    </tr>\n",
       "  </thead>\n",
       "  <tbody>\n",
       "    <tr>\n",
       "      <th>0</th>\n",
       "      <td>1</td>\n",
       "      <td>20220601 00</td>\n",
       "      <td>18.6</td>\n",
       "      <td>0.0</td>\n",
       "      <td>0.9</td>\n",
       "      <td>42.0</td>\n",
       "      <td>0.33</td>\n",
       "      <td>1.06</td>\n",
       "      <td>1085.28</td>\n",
       "    </tr>\n",
       "    <tr>\n",
       "      <th>1</th>\n",
       "      <td>1</td>\n",
       "      <td>20220601 01</td>\n",
       "      <td>18.0</td>\n",
       "      <td>0.0</td>\n",
       "      <td>1.1</td>\n",
       "      <td>45.0</td>\n",
       "      <td>0.33</td>\n",
       "      <td>1.06</td>\n",
       "      <td>1047.36</td>\n",
       "    </tr>\n",
       "    <tr>\n",
       "      <th>2</th>\n",
       "      <td>1</td>\n",
       "      <td>20220601 02</td>\n",
       "      <td>17.7</td>\n",
       "      <td>0.0</td>\n",
       "      <td>1.5</td>\n",
       "      <td>45.0</td>\n",
       "      <td>0.33</td>\n",
       "      <td>1.06</td>\n",
       "      <td>974.88</td>\n",
       "    </tr>\n",
       "    <tr>\n",
       "      <th>3</th>\n",
       "      <td>1</td>\n",
       "      <td>20220601 03</td>\n",
       "      <td>16.7</td>\n",
       "      <td>0.0</td>\n",
       "      <td>1.4</td>\n",
       "      <td>48.0</td>\n",
       "      <td>0.33</td>\n",
       "      <td>1.06</td>\n",
       "      <td>953.76</td>\n",
       "    </tr>\n",
       "    <tr>\n",
       "      <th>4</th>\n",
       "      <td>1</td>\n",
       "      <td>20220601 04</td>\n",
       "      <td>18.4</td>\n",
       "      <td>0.0</td>\n",
       "      <td>2.8</td>\n",
       "      <td>43.0</td>\n",
       "      <td>0.33</td>\n",
       "      <td>1.06</td>\n",
       "      <td>986.40</td>\n",
       "    </tr>\n",
       "  </tbody>\n",
       "</table>\n",
       "</div>"
      ],
      "text/plain": [
       "   건물번호           일시  기온(C)  강수량(mm)  풍속(m/s)  습도(%)  일조(hr)  일사(MJ/m2)  \\\n",
       "0     1  20220601 00   18.6      0.0      0.9   42.0    0.33       1.06   \n",
       "1     1  20220601 01   18.0      0.0      1.1   45.0    0.33       1.06   \n",
       "2     1  20220601 02   17.7      0.0      1.5   45.0    0.33       1.06   \n",
       "3     1  20220601 03   16.7      0.0      1.4   48.0    0.33       1.06   \n",
       "4     1  20220601 04   18.4      0.0      2.8   43.0    0.33       1.06   \n",
       "\n",
       "   전력소비량(kWh)  \n",
       "0     1085.28  \n",
       "1     1047.36  \n",
       "2      974.88  \n",
       "3      953.76  \n",
       "4      986.40  "
      ]
     },
     "execution_count": 343,
     "metadata": {},
     "output_type": "execute_result"
    }
   ],
   "source": [
    "df.head()"
   ]
  },
  {
   "cell_type": "code",
   "execution_count": 344,
   "id": "4ed6b2e1",
   "metadata": {},
   "outputs": [],
   "source": [
    "df = df.drop(['일조(hr)','일사(MJ/m2)'], axis=1)"
   ]
  },
  {
   "cell_type": "code",
   "execution_count": 345,
   "id": "3beb3352",
   "metadata": {},
   "outputs": [],
   "source": [
    "df['연월일'] = df['일시'].apply(lambda x : int(x[:8]))"
   ]
  },
  {
   "cell_type": "code",
   "execution_count": 346,
   "id": "d4a50f4e",
   "metadata": {},
   "outputs": [],
   "source": [
    "df['시간'] = df['일시'].apply(lambda x : int(x[9:11]))"
   ]
  },
  {
   "cell_type": "code",
   "execution_count": 347,
   "id": "07cc996f",
   "metadata": {},
   "outputs": [
    {
     "data": {
      "text/html": [
       "<div>\n",
       "<style scoped>\n",
       "    .dataframe tbody tr th:only-of-type {\n",
       "        vertical-align: middle;\n",
       "    }\n",
       "\n",
       "    .dataframe tbody tr th {\n",
       "        vertical-align: top;\n",
       "    }\n",
       "\n",
       "    .dataframe thead th {\n",
       "        text-align: right;\n",
       "    }\n",
       "</style>\n",
       "<table border=\"1\" class=\"dataframe\">\n",
       "  <thead>\n",
       "    <tr style=\"text-align: right;\">\n",
       "      <th></th>\n",
       "      <th>건물번호</th>\n",
       "      <th>일시</th>\n",
       "      <th>기온(C)</th>\n",
       "      <th>강수량(mm)</th>\n",
       "      <th>풍속(m/s)</th>\n",
       "      <th>습도(%)</th>\n",
       "      <th>전력소비량(kWh)</th>\n",
       "      <th>연월일</th>\n",
       "      <th>시간</th>\n",
       "    </tr>\n",
       "  </thead>\n",
       "  <tbody>\n",
       "    <tr>\n",
       "      <th>0</th>\n",
       "      <td>1</td>\n",
       "      <td>20220601 00</td>\n",
       "      <td>18.6</td>\n",
       "      <td>0.0</td>\n",
       "      <td>0.9</td>\n",
       "      <td>42.0</td>\n",
       "      <td>1085.28</td>\n",
       "      <td>20220601</td>\n",
       "      <td>0</td>\n",
       "    </tr>\n",
       "    <tr>\n",
       "      <th>1</th>\n",
       "      <td>1</td>\n",
       "      <td>20220601 01</td>\n",
       "      <td>18.0</td>\n",
       "      <td>0.0</td>\n",
       "      <td>1.1</td>\n",
       "      <td>45.0</td>\n",
       "      <td>1047.36</td>\n",
       "      <td>20220601</td>\n",
       "      <td>1</td>\n",
       "    </tr>\n",
       "    <tr>\n",
       "      <th>2</th>\n",
       "      <td>1</td>\n",
       "      <td>20220601 02</td>\n",
       "      <td>17.7</td>\n",
       "      <td>0.0</td>\n",
       "      <td>1.5</td>\n",
       "      <td>45.0</td>\n",
       "      <td>974.88</td>\n",
       "      <td>20220601</td>\n",
       "      <td>2</td>\n",
       "    </tr>\n",
       "    <tr>\n",
       "      <th>3</th>\n",
       "      <td>1</td>\n",
       "      <td>20220601 03</td>\n",
       "      <td>16.7</td>\n",
       "      <td>0.0</td>\n",
       "      <td>1.4</td>\n",
       "      <td>48.0</td>\n",
       "      <td>953.76</td>\n",
       "      <td>20220601</td>\n",
       "      <td>3</td>\n",
       "    </tr>\n",
       "    <tr>\n",
       "      <th>4</th>\n",
       "      <td>1</td>\n",
       "      <td>20220601 04</td>\n",
       "      <td>18.4</td>\n",
       "      <td>0.0</td>\n",
       "      <td>2.8</td>\n",
       "      <td>43.0</td>\n",
       "      <td>986.40</td>\n",
       "      <td>20220601</td>\n",
       "      <td>4</td>\n",
       "    </tr>\n",
       "  </tbody>\n",
       "</table>\n",
       "</div>"
      ],
      "text/plain": [
       "   건물번호           일시  기온(C)  강수량(mm)  풍속(m/s)  습도(%)  전력소비량(kWh)       연월일  시간\n",
       "0     1  20220601 00   18.6      0.0      0.9   42.0     1085.28  20220601   0\n",
       "1     1  20220601 01   18.0      0.0      1.1   45.0     1047.36  20220601   1\n",
       "2     1  20220601 02   17.7      0.0      1.5   45.0      974.88  20220601   2\n",
       "3     1  20220601 03   16.7      0.0      1.4   48.0      953.76  20220601   3\n",
       "4     1  20220601 04   18.4      0.0      2.8   43.0      986.40  20220601   4"
      ]
     },
     "execution_count": 347,
     "metadata": {},
     "output_type": "execute_result"
    }
   ],
   "source": [
    "df.head()"
   ]
  },
  {
   "cell_type": "code",
   "execution_count": 348,
   "id": "4f336a32",
   "metadata": {},
   "outputs": [],
   "source": [
    "df = df.drop(['일시'], axis=1)"
   ]
  },
  {
   "cell_type": "code",
   "execution_count": 349,
   "id": "5ed8ed8a",
   "metadata": {},
   "outputs": [
    {
     "data": {
      "text/html": [
       "<div>\n",
       "<style scoped>\n",
       "    .dataframe tbody tr th:only-of-type {\n",
       "        vertical-align: middle;\n",
       "    }\n",
       "\n",
       "    .dataframe tbody tr th {\n",
       "        vertical-align: top;\n",
       "    }\n",
       "\n",
       "    .dataframe thead th {\n",
       "        text-align: right;\n",
       "    }\n",
       "</style>\n",
       "<table border=\"1\" class=\"dataframe\">\n",
       "  <thead>\n",
       "    <tr style=\"text-align: right;\">\n",
       "      <th></th>\n",
       "      <th>연월일</th>\n",
       "      <th>시간</th>\n",
       "      <th>건물번호</th>\n",
       "      <th>기온(C)</th>\n",
       "      <th>강수량(mm)</th>\n",
       "      <th>풍속(m/s)</th>\n",
       "      <th>습도(%)</th>\n",
       "      <th>전력소비량(kWh)</th>\n",
       "    </tr>\n",
       "  </thead>\n",
       "  <tbody>\n",
       "    <tr>\n",
       "      <th>0</th>\n",
       "      <td>20220601</td>\n",
       "      <td>0</td>\n",
       "      <td>1</td>\n",
       "      <td>18.6</td>\n",
       "      <td>0.0</td>\n",
       "      <td>0.9</td>\n",
       "      <td>42.0</td>\n",
       "      <td>1085.28</td>\n",
       "    </tr>\n",
       "    <tr>\n",
       "      <th>1</th>\n",
       "      <td>20220601</td>\n",
       "      <td>1</td>\n",
       "      <td>1</td>\n",
       "      <td>18.0</td>\n",
       "      <td>0.0</td>\n",
       "      <td>1.1</td>\n",
       "      <td>45.0</td>\n",
       "      <td>1047.36</td>\n",
       "    </tr>\n",
       "    <tr>\n",
       "      <th>2</th>\n",
       "      <td>20220601</td>\n",
       "      <td>2</td>\n",
       "      <td>1</td>\n",
       "      <td>17.7</td>\n",
       "      <td>0.0</td>\n",
       "      <td>1.5</td>\n",
       "      <td>45.0</td>\n",
       "      <td>974.88</td>\n",
       "    </tr>\n",
       "    <tr>\n",
       "      <th>3</th>\n",
       "      <td>20220601</td>\n",
       "      <td>3</td>\n",
       "      <td>1</td>\n",
       "      <td>16.7</td>\n",
       "      <td>0.0</td>\n",
       "      <td>1.4</td>\n",
       "      <td>48.0</td>\n",
       "      <td>953.76</td>\n",
       "    </tr>\n",
       "    <tr>\n",
       "      <th>4</th>\n",
       "      <td>20220601</td>\n",
       "      <td>4</td>\n",
       "      <td>1</td>\n",
       "      <td>18.4</td>\n",
       "      <td>0.0</td>\n",
       "      <td>2.8</td>\n",
       "      <td>43.0</td>\n",
       "      <td>986.40</td>\n",
       "    </tr>\n",
       "  </tbody>\n",
       "</table>\n",
       "</div>"
      ],
      "text/plain": [
       "        연월일  시간  건물번호  기온(C)  강수량(mm)  풍속(m/s)  습도(%)  전력소비량(kWh)\n",
       "0  20220601   0     1   18.6      0.0      0.9   42.0     1085.28\n",
       "1  20220601   1     1   18.0      0.0      1.1   45.0     1047.36\n",
       "2  20220601   2     1   17.7      0.0      1.5   45.0      974.88\n",
       "3  20220601   3     1   16.7      0.0      1.4   48.0      953.76\n",
       "4  20220601   4     1   18.4      0.0      2.8   43.0      986.40"
      ]
     },
     "execution_count": 349,
     "metadata": {},
     "output_type": "execute_result"
    }
   ],
   "source": [
    "df = df[[\"연월일\", \"시간\", \"건물번호\",\"기온(C)\", \"강수량(mm)\", \"풍속(m/s)\", \"습도(%)\",\"전력소비량(kWh)\"]]\n",
    "df.head()"
   ]
  },
  {
   "cell_type": "code",
   "execution_count": 264,
   "id": "c64d3549",
   "metadata": {},
   "outputs": [],
   "source": [
    "df1 = df[df[\"연월일\"].isin([20220604, 20220605])].reset_index(drop=True)"
   ]
  },
  {
   "cell_type": "code",
   "execution_count": 265,
   "id": "612000ad",
   "metadata": {},
   "outputs": [
    {
     "data": {
      "text/html": [
       "<div>\n",
       "<style scoped>\n",
       "    .dataframe tbody tr th:only-of-type {\n",
       "        vertical-align: middle;\n",
       "    }\n",
       "\n",
       "    .dataframe tbody tr th {\n",
       "        vertical-align: top;\n",
       "    }\n",
       "\n",
       "    .dataframe thead th {\n",
       "        text-align: right;\n",
       "    }\n",
       "</style>\n",
       "<table border=\"1\" class=\"dataframe\">\n",
       "  <thead>\n",
       "    <tr style=\"text-align: right;\">\n",
       "      <th></th>\n",
       "      <th>연월일</th>\n",
       "      <th>시간</th>\n",
       "      <th>건물번호</th>\n",
       "      <th>기온(C)</th>\n",
       "      <th>강수량(mm)</th>\n",
       "      <th>풍속(m/s)</th>\n",
       "      <th>습도(%)</th>\n",
       "      <th>전력소비량(kWh)</th>\n",
       "    </tr>\n",
       "  </thead>\n",
       "  <tbody>\n",
       "    <tr>\n",
       "      <th>0</th>\n",
       "      <td>20220604</td>\n",
       "      <td>0</td>\n",
       "      <td>1</td>\n",
       "      <td>22.3</td>\n",
       "      <td>0.0</td>\n",
       "      <td>2.2</td>\n",
       "      <td>76.0</td>\n",
       "      <td>1203.84</td>\n",
       "    </tr>\n",
       "    <tr>\n",
       "      <th>1</th>\n",
       "      <td>20220604</td>\n",
       "      <td>1</td>\n",
       "      <td>1</td>\n",
       "      <td>21.6</td>\n",
       "      <td>0.0</td>\n",
       "      <td>1.7</td>\n",
       "      <td>81.0</td>\n",
       "      <td>1119.36</td>\n",
       "    </tr>\n",
       "    <tr>\n",
       "      <th>2</th>\n",
       "      <td>20220604</td>\n",
       "      <td>2</td>\n",
       "      <td>1</td>\n",
       "      <td>21.5</td>\n",
       "      <td>0.0</td>\n",
       "      <td>0.6</td>\n",
       "      <td>82.0</td>\n",
       "      <td>1026.72</td>\n",
       "    </tr>\n",
       "    <tr>\n",
       "      <th>3</th>\n",
       "      <td>20220604</td>\n",
       "      <td>3</td>\n",
       "      <td>1</td>\n",
       "      <td>21.4</td>\n",
       "      <td>0.0</td>\n",
       "      <td>1.0</td>\n",
       "      <td>81.0</td>\n",
       "      <td>992.64</td>\n",
       "    </tr>\n",
       "    <tr>\n",
       "      <th>4</th>\n",
       "      <td>20220604</td>\n",
       "      <td>4</td>\n",
       "      <td>1</td>\n",
       "      <td>21.0</td>\n",
       "      <td>0.0</td>\n",
       "      <td>0.9</td>\n",
       "      <td>83.0</td>\n",
       "      <td>1022.88</td>\n",
       "    </tr>\n",
       "  </tbody>\n",
       "</table>\n",
       "</div>"
      ],
      "text/plain": [
       "        연월일  시간  건물번호  기온(C)  강수량(mm)  풍속(m/s)  습도(%)  전력소비량(kWh)\n",
       "0  20220604   0     1   22.3      0.0      2.2   76.0     1203.84\n",
       "1  20220604   1     1   21.6      0.0      1.7   81.0     1119.36\n",
       "2  20220604   2     1   21.5      0.0      0.6   82.0     1026.72\n",
       "3  20220604   3     1   21.4      0.0      1.0   81.0      992.64\n",
       "4  20220604   4     1   21.0      0.0      0.9   83.0     1022.88"
      ]
     },
     "execution_count": 265,
     "metadata": {},
     "output_type": "execute_result"
    }
   ],
   "source": [
    "df1.head()"
   ]
  },
  {
   "cell_type": "code",
   "execution_count": 266,
   "id": "5d3e6a44",
   "metadata": {},
   "outputs": [],
   "source": [
    "df_weekend = df[df[\"연월일\"].isin([20220604, 20220605,20220611,20220612,20220618,20220619,2020624,20220625,20220606,\n",
    "                                20220702,20220703,20220709,20220710,20220716,20220717,20220723,20220724,202220730,20220731,\n",
    "                                20220806,20220807,20220813,20220814,20220815,20220820,20220821])]"
   ]
  },
  {
   "cell_type": "code",
   "execution_count": 267,
   "id": "adaafa69",
   "metadata": {},
   "outputs": [
    {
     "data": {
      "text/html": [
       "<div>\n",
       "<style scoped>\n",
       "    .dataframe tbody tr th:only-of-type {\n",
       "        vertical-align: middle;\n",
       "    }\n",
       "\n",
       "    .dataframe tbody tr th {\n",
       "        vertical-align: top;\n",
       "    }\n",
       "\n",
       "    .dataframe thead th {\n",
       "        text-align: right;\n",
       "    }\n",
       "</style>\n",
       "<table border=\"1\" class=\"dataframe\">\n",
       "  <thead>\n",
       "    <tr style=\"text-align: right;\">\n",
       "      <th></th>\n",
       "      <th>연월일</th>\n",
       "      <th>시간</th>\n",
       "      <th>건물번호</th>\n",
       "      <th>기온(C)</th>\n",
       "      <th>강수량(mm)</th>\n",
       "      <th>풍속(m/s)</th>\n",
       "      <th>습도(%)</th>\n",
       "      <th>전력소비량(kWh)</th>\n",
       "    </tr>\n",
       "  </thead>\n",
       "  <tbody>\n",
       "    <tr>\n",
       "      <th>72</th>\n",
       "      <td>20220604</td>\n",
       "      <td>0</td>\n",
       "      <td>1</td>\n",
       "      <td>22.3</td>\n",
       "      <td>0.0</td>\n",
       "      <td>2.2</td>\n",
       "      <td>76.0</td>\n",
       "      <td>1203.84</td>\n",
       "    </tr>\n",
       "    <tr>\n",
       "      <th>73</th>\n",
       "      <td>20220604</td>\n",
       "      <td>1</td>\n",
       "      <td>1</td>\n",
       "      <td>21.6</td>\n",
       "      <td>0.0</td>\n",
       "      <td>1.7</td>\n",
       "      <td>81.0</td>\n",
       "      <td>1119.36</td>\n",
       "    </tr>\n",
       "    <tr>\n",
       "      <th>74</th>\n",
       "      <td>20220604</td>\n",
       "      <td>2</td>\n",
       "      <td>1</td>\n",
       "      <td>21.5</td>\n",
       "      <td>0.0</td>\n",
       "      <td>0.6</td>\n",
       "      <td>82.0</td>\n",
       "      <td>1026.72</td>\n",
       "    </tr>\n",
       "    <tr>\n",
       "      <th>75</th>\n",
       "      <td>20220604</td>\n",
       "      <td>3</td>\n",
       "      <td>1</td>\n",
       "      <td>21.4</td>\n",
       "      <td>0.0</td>\n",
       "      <td>1.0</td>\n",
       "      <td>81.0</td>\n",
       "      <td>992.64</td>\n",
       "    </tr>\n",
       "    <tr>\n",
       "      <th>76</th>\n",
       "      <td>20220604</td>\n",
       "      <td>4</td>\n",
       "      <td>1</td>\n",
       "      <td>21.0</td>\n",
       "      <td>0.0</td>\n",
       "      <td>0.9</td>\n",
       "      <td>83.0</td>\n",
       "      <td>1022.88</td>\n",
       "    </tr>\n",
       "    <tr>\n",
       "      <th>...</th>\n",
       "      <td>...</td>\n",
       "      <td>...</td>\n",
       "      <td>...</td>\n",
       "      <td>...</td>\n",
       "      <td>...</td>\n",
       "      <td>...</td>\n",
       "      <td>...</td>\n",
       "      <td>...</td>\n",
       "    </tr>\n",
       "    <tr>\n",
       "      <th>203923</th>\n",
       "      <td>20220821</td>\n",
       "      <td>19</td>\n",
       "      <td>100</td>\n",
       "      <td>27.9</td>\n",
       "      <td>0.0</td>\n",
       "      <td>0.7</td>\n",
       "      <td>78.0</td>\n",
       "      <td>1097.52</td>\n",
       "    </tr>\n",
       "    <tr>\n",
       "      <th>203924</th>\n",
       "      <td>20220821</td>\n",
       "      <td>20</td>\n",
       "      <td>100</td>\n",
       "      <td>26.5</td>\n",
       "      <td>0.0</td>\n",
       "      <td>0.6</td>\n",
       "      <td>85.0</td>\n",
       "      <td>981.12</td>\n",
       "    </tr>\n",
       "    <tr>\n",
       "      <th>203925</th>\n",
       "      <td>20220821</td>\n",
       "      <td>21</td>\n",
       "      <td>100</td>\n",
       "      <td>25.4</td>\n",
       "      <td>0.0</td>\n",
       "      <td>0.3</td>\n",
       "      <td>90.0</td>\n",
       "      <td>924.72</td>\n",
       "    </tr>\n",
       "    <tr>\n",
       "      <th>203926</th>\n",
       "      <td>20220821</td>\n",
       "      <td>22</td>\n",
       "      <td>100</td>\n",
       "      <td>24.9</td>\n",
       "      <td>0.0</td>\n",
       "      <td>0.3</td>\n",
       "      <td>94.0</td>\n",
       "      <td>881.52</td>\n",
       "    </tr>\n",
       "    <tr>\n",
       "      <th>203927</th>\n",
       "      <td>20220821</td>\n",
       "      <td>23</td>\n",
       "      <td>100</td>\n",
       "      <td>24.3</td>\n",
       "      <td>0.0</td>\n",
       "      <td>0.2</td>\n",
       "      <td>97.0</td>\n",
       "      <td>676.56</td>\n",
       "    </tr>\n",
       "  </tbody>\n",
       "</table>\n",
       "<p>57600 rows × 8 columns</p>\n",
       "</div>"
      ],
      "text/plain": [
       "             연월일  시간  건물번호  기온(C)  강수량(mm)  풍속(m/s)  습도(%)  전력소비량(kWh)\n",
       "72      20220604   0     1   22.3      0.0      2.2   76.0     1203.84\n",
       "73      20220604   1     1   21.6      0.0      1.7   81.0     1119.36\n",
       "74      20220604   2     1   21.5      0.0      0.6   82.0     1026.72\n",
       "75      20220604   3     1   21.4      0.0      1.0   81.0      992.64\n",
       "76      20220604   4     1   21.0      0.0      0.9   83.0     1022.88\n",
       "...          ...  ..   ...    ...      ...      ...    ...         ...\n",
       "203923  20220821  19   100   27.9      0.0      0.7   78.0     1097.52\n",
       "203924  20220821  20   100   26.5      0.0      0.6   85.0      981.12\n",
       "203925  20220821  21   100   25.4      0.0      0.3   90.0      924.72\n",
       "203926  20220821  22   100   24.9      0.0      0.3   94.0      881.52\n",
       "203927  20220821  23   100   24.3      0.0      0.2   97.0      676.56\n",
       "\n",
       "[57600 rows x 8 columns]"
      ]
     },
     "execution_count": 267,
     "metadata": {},
     "output_type": "execute_result"
    }
   ],
   "source": [
    "df_weekend"
   ]
  },
  {
   "cell_type": "code",
   "execution_count": 350,
   "id": "66289dd1",
   "metadata": {},
   "outputs": [],
   "source": [
    "df_day = df[~df[\"연월일\"].isin([20220604, 20220605,20220611,20220612,20220618,20220619,2020624,20220625,20220606,\n",
    "                                20220702,20220703,20220709,20220710,20220716,20220717,20220723,20220724,202220730,20220731,\n",
    "                                20220806,20220807,20220813,20220814,20220815,20220820,20220821])]"
   ]
  },
  {
   "cell_type": "code",
   "execution_count": 351,
   "id": "6bc5a728",
   "metadata": {},
   "outputs": [
    {
     "data": {
      "text/plain": [
       "<bound method NDFrame.head of              연월일  시간  건물번호  기온(C)  강수량(mm)  풍속(m/s)  습도(%)  전력소비량(kWh)\n",
       "0       20220601   0     1   18.6      0.0      0.9   42.0     1085.28\n",
       "1       20220601   1     1   18.0      0.0      1.1   45.0     1047.36\n",
       "2       20220601   2     1   17.7      0.0      1.5   45.0      974.88\n",
       "3       20220601   3     1   16.7      0.0      1.4   48.0      953.76\n",
       "4       20220601   4     1   18.4      0.0      2.8   43.0      986.40\n",
       "...          ...  ..   ...    ...      ...      ...    ...         ...\n",
       "203995  20220824  19   100   23.1      0.0      0.9   86.0      881.04\n",
       "203996  20220824  20   100   22.4      0.0      1.3   86.0      798.96\n",
       "203997  20220824  21   100   21.3      0.0      1.0   92.0      825.12\n",
       "203998  20220824  22   100   21.0      0.0      0.3   94.0      640.08\n",
       "203999  20220824  23   100   20.7      0.0      0.1   95.0      540.24\n",
       "\n",
       "[146400 rows x 8 columns]>"
      ]
     },
     "execution_count": 351,
     "metadata": {},
     "output_type": "execute_result"
    }
   ],
   "source": [
    "df_day.head"
   ]
  },
  {
   "cell_type": "code",
   "execution_count": 270,
   "id": "78130875",
   "metadata": {},
   "outputs": [],
   "source": [
    "#만약 시간대별로 나누어서 학습할거면 8시~20시, 나머지"
   ]
  },
  {
   "cell_type": "code",
   "execution_count": 271,
   "id": "99bef2f4",
   "metadata": {},
   "outputs": [],
   "source": [
    "#주말.휴일 학습"
   ]
  },
  {
   "cell_type": "code",
   "execution_count": 352,
   "id": "49f71d6e",
   "metadata": {},
   "outputs": [
    {
     "data": {
      "text/html": [
       "<div>\n",
       "<style scoped>\n",
       "    .dataframe tbody tr th:only-of-type {\n",
       "        vertical-align: middle;\n",
       "    }\n",
       "\n",
       "    .dataframe tbody tr th {\n",
       "        vertical-align: top;\n",
       "    }\n",
       "\n",
       "    .dataframe thead th {\n",
       "        text-align: right;\n",
       "    }\n",
       "</style>\n",
       "<table border=\"1\" class=\"dataframe\">\n",
       "  <thead>\n",
       "    <tr style=\"text-align: right;\">\n",
       "      <th></th>\n",
       "      <th>연월일</th>\n",
       "      <th>시간</th>\n",
       "      <th>건물번호</th>\n",
       "      <th>기온(C)</th>\n",
       "      <th>강수량(mm)</th>\n",
       "      <th>풍속(m/s)</th>\n",
       "      <th>습도(%)</th>\n",
       "      <th>전력소비량(kWh)</th>\n",
       "    </tr>\n",
       "  </thead>\n",
       "  <tbody>\n",
       "    <tr>\n",
       "      <th>0</th>\n",
       "      <td>20220601</td>\n",
       "      <td>0</td>\n",
       "      <td>1</td>\n",
       "      <td>18.6</td>\n",
       "      <td>0.0</td>\n",
       "      <td>0.9</td>\n",
       "      <td>42.0</td>\n",
       "      <td>1085.28</td>\n",
       "    </tr>\n",
       "    <tr>\n",
       "      <th>1</th>\n",
       "      <td>20220601</td>\n",
       "      <td>1</td>\n",
       "      <td>1</td>\n",
       "      <td>18.0</td>\n",
       "      <td>0.0</td>\n",
       "      <td>1.1</td>\n",
       "      <td>45.0</td>\n",
       "      <td>1047.36</td>\n",
       "    </tr>\n",
       "    <tr>\n",
       "      <th>2</th>\n",
       "      <td>20220601</td>\n",
       "      <td>2</td>\n",
       "      <td>1</td>\n",
       "      <td>17.7</td>\n",
       "      <td>0.0</td>\n",
       "      <td>1.5</td>\n",
       "      <td>45.0</td>\n",
       "      <td>974.88</td>\n",
       "    </tr>\n",
       "    <tr>\n",
       "      <th>3</th>\n",
       "      <td>20220601</td>\n",
       "      <td>3</td>\n",
       "      <td>1</td>\n",
       "      <td>16.7</td>\n",
       "      <td>0.0</td>\n",
       "      <td>1.4</td>\n",
       "      <td>48.0</td>\n",
       "      <td>953.76</td>\n",
       "    </tr>\n",
       "    <tr>\n",
       "      <th>4</th>\n",
       "      <td>20220601</td>\n",
       "      <td>4</td>\n",
       "      <td>1</td>\n",
       "      <td>18.4</td>\n",
       "      <td>0.0</td>\n",
       "      <td>2.8</td>\n",
       "      <td>43.0</td>\n",
       "      <td>986.40</td>\n",
       "    </tr>\n",
       "    <tr>\n",
       "      <th>...</th>\n",
       "      <td>...</td>\n",
       "      <td>...</td>\n",
       "      <td>...</td>\n",
       "      <td>...</td>\n",
       "      <td>...</td>\n",
       "      <td>...</td>\n",
       "      <td>...</td>\n",
       "      <td>...</td>\n",
       "    </tr>\n",
       "    <tr>\n",
       "      <th>203995</th>\n",
       "      <td>20220824</td>\n",
       "      <td>19</td>\n",
       "      <td>100</td>\n",
       "      <td>23.1</td>\n",
       "      <td>0.0</td>\n",
       "      <td>0.9</td>\n",
       "      <td>86.0</td>\n",
       "      <td>881.04</td>\n",
       "    </tr>\n",
       "    <tr>\n",
       "      <th>203996</th>\n",
       "      <td>20220824</td>\n",
       "      <td>20</td>\n",
       "      <td>100</td>\n",
       "      <td>22.4</td>\n",
       "      <td>0.0</td>\n",
       "      <td>1.3</td>\n",
       "      <td>86.0</td>\n",
       "      <td>798.96</td>\n",
       "    </tr>\n",
       "    <tr>\n",
       "      <th>203997</th>\n",
       "      <td>20220824</td>\n",
       "      <td>21</td>\n",
       "      <td>100</td>\n",
       "      <td>21.3</td>\n",
       "      <td>0.0</td>\n",
       "      <td>1.0</td>\n",
       "      <td>92.0</td>\n",
       "      <td>825.12</td>\n",
       "    </tr>\n",
       "    <tr>\n",
       "      <th>203998</th>\n",
       "      <td>20220824</td>\n",
       "      <td>22</td>\n",
       "      <td>100</td>\n",
       "      <td>21.0</td>\n",
       "      <td>0.0</td>\n",
       "      <td>0.3</td>\n",
       "      <td>94.0</td>\n",
       "      <td>640.08</td>\n",
       "    </tr>\n",
       "    <tr>\n",
       "      <th>203999</th>\n",
       "      <td>20220824</td>\n",
       "      <td>23</td>\n",
       "      <td>100</td>\n",
       "      <td>20.7</td>\n",
       "      <td>0.0</td>\n",
       "      <td>0.1</td>\n",
       "      <td>95.0</td>\n",
       "      <td>540.24</td>\n",
       "    </tr>\n",
       "  </tbody>\n",
       "</table>\n",
       "<p>146400 rows × 8 columns</p>\n",
       "</div>"
      ],
      "text/plain": [
       "             연월일  시간  건물번호  기온(C)  강수량(mm)  풍속(m/s)  습도(%)  전력소비량(kWh)\n",
       "0       20220601   0     1   18.6      0.0      0.9   42.0     1085.28\n",
       "1       20220601   1     1   18.0      0.0      1.1   45.0     1047.36\n",
       "2       20220601   2     1   17.7      0.0      1.5   45.0      974.88\n",
       "3       20220601   3     1   16.7      0.0      1.4   48.0      953.76\n",
       "4       20220601   4     1   18.4      0.0      2.8   43.0      986.40\n",
       "...          ...  ..   ...    ...      ...      ...    ...         ...\n",
       "203995  20220824  19   100   23.1      0.0      0.9   86.0      881.04\n",
       "203996  20220824  20   100   22.4      0.0      1.3   86.0      798.96\n",
       "203997  20220824  21   100   21.3      0.0      1.0   92.0      825.12\n",
       "203998  20220824  22   100   21.0      0.0      0.3   94.0      640.08\n",
       "203999  20220824  23   100   20.7      0.0      0.1   95.0      540.24\n",
       "\n",
       "[146400 rows x 8 columns]"
      ]
     },
     "execution_count": 352,
     "metadata": {},
     "output_type": "execute_result"
    }
   ],
   "source": [
    "df_day"
   ]
  },
  {
   "cell_type": "code",
   "execution_count": null,
   "id": "513a51bb",
   "metadata": {},
   "outputs": [],
   "source": []
  },
  {
   "cell_type": "code",
   "execution_count": null,
   "id": "8ffa8baa",
   "metadata": {},
   "outputs": [],
   "source": [
    "'''df['연도'] = df['일시'].apply(lambda x : int(x[:4]))\n",
    "df['월'] = df['일시'].apply(lambda x : int(x[4:6]))\n",
    "df['일'] = df['일시'].apply(lambda x : int(x[6:8]))\n",
    "df['시간'] = df['일시'].apply(lambda x : int(x[9:11]))'''"
   ]
  },
  {
   "cell_type": "code",
   "execution_count": null,
   "id": "4b751908",
   "metadata": {},
   "outputs": [],
   "source": [
    "'''df = df.drop(['일시','연도'], axis=1)'''"
   ]
  },
  {
   "cell_type": "code",
   "execution_count": null,
   "id": "9b538f19",
   "metadata": {},
   "outputs": [],
   "source": [
    "'''df = df[[\"월\",\"일\", \"시간\", \"건물번호\",\"기온(C)\", \"강수량(mm)\", \"풍속(m/s)\", \"습도(%)\", \"일조(hr)\", \"일사(MJ/m2)\",\"전력소비량(kWh)\"]]\n",
    "df.head()'''"
   ]
  },
  {
   "cell_type": "code",
   "execution_count": null,
   "id": "eb294cfb",
   "metadata": {},
   "outputs": [],
   "source": []
  },
  {
   "cell_type": "code",
   "execution_count": null,
   "id": "a03eed04",
   "metadata": {},
   "outputs": [],
   "source": []
  },
  {
   "cell_type": "code",
   "execution_count": 353,
   "id": "f1deceba",
   "metadata": {},
   "outputs": [],
   "source": [
    "# 정규화하기\n",
    "# MinMaxScaler 클래스 생성\n",
    "scaler = MinMaxScaler()\n",
    "\n",
    "# MinMaxScaler 클래스의 fit_transform() 메서드 사용 데이터 정규화\n",
    "normalized_data = scaler.fit_transform(df_day)\n",
    "\n",
    "# 정규화된 데이터, 데이터 프레임으로 다시 변환\n",
    "ndf = pd.DataFrame(normalized_data, columns=df_day.columns)"
   ]
  },
  {
   "cell_type": "code",
   "execution_count": 354,
   "id": "28eb065c",
   "metadata": {},
   "outputs": [],
   "source": [
    "X = ndf.iloc[:, :-1]\n",
    "y = ndf.iloc[:,[-1]]"
   ]
  },
  {
   "cell_type": "code",
   "execution_count": 355,
   "id": "da66f9d7",
   "metadata": {},
   "outputs": [
    {
     "data": {
      "text/html": [
       "<div>\n",
       "<style scoped>\n",
       "    .dataframe tbody tr th:only-of-type {\n",
       "        vertical-align: middle;\n",
       "    }\n",
       "\n",
       "    .dataframe tbody tr th {\n",
       "        vertical-align: top;\n",
       "    }\n",
       "\n",
       "    .dataframe thead th {\n",
       "        text-align: right;\n",
       "    }\n",
       "</style>\n",
       "<table border=\"1\" class=\"dataframe\">\n",
       "  <thead>\n",
       "    <tr style=\"text-align: right;\">\n",
       "      <th></th>\n",
       "      <th>연월일</th>\n",
       "      <th>시간</th>\n",
       "      <th>건물번호</th>\n",
       "      <th>기온(C)</th>\n",
       "      <th>강수량(mm)</th>\n",
       "      <th>풍속(m/s)</th>\n",
       "      <th>습도(%)</th>\n",
       "    </tr>\n",
       "  </thead>\n",
       "  <tbody>\n",
       "    <tr>\n",
       "      <th>0</th>\n",
       "      <td>0.0</td>\n",
       "      <td>0.000000</td>\n",
       "      <td>0.0</td>\n",
       "      <td>0.314815</td>\n",
       "      <td>0.0</td>\n",
       "      <td>0.067669</td>\n",
       "      <td>0.333333</td>\n",
       "    </tr>\n",
       "    <tr>\n",
       "      <th>1</th>\n",
       "      <td>0.0</td>\n",
       "      <td>0.043478</td>\n",
       "      <td>0.0</td>\n",
       "      <td>0.292593</td>\n",
       "      <td>0.0</td>\n",
       "      <td>0.082707</td>\n",
       "      <td>0.367816</td>\n",
       "    </tr>\n",
       "    <tr>\n",
       "      <th>2</th>\n",
       "      <td>0.0</td>\n",
       "      <td>0.086957</td>\n",
       "      <td>0.0</td>\n",
       "      <td>0.281481</td>\n",
       "      <td>0.0</td>\n",
       "      <td>0.112782</td>\n",
       "      <td>0.367816</td>\n",
       "    </tr>\n",
       "    <tr>\n",
       "      <th>3</th>\n",
       "      <td>0.0</td>\n",
       "      <td>0.130435</td>\n",
       "      <td>0.0</td>\n",
       "      <td>0.244444</td>\n",
       "      <td>0.0</td>\n",
       "      <td>0.105263</td>\n",
       "      <td>0.402299</td>\n",
       "    </tr>\n",
       "    <tr>\n",
       "      <th>4</th>\n",
       "      <td>0.0</td>\n",
       "      <td>0.173913</td>\n",
       "      <td>0.0</td>\n",
       "      <td>0.307407</td>\n",
       "      <td>0.0</td>\n",
       "      <td>0.210526</td>\n",
       "      <td>0.344828</td>\n",
       "    </tr>\n",
       "  </tbody>\n",
       "</table>\n",
       "</div>"
      ],
      "text/plain": [
       "   연월일        시간  건물번호     기온(C)  강수량(mm)   풍속(m/s)     습도(%)\n",
       "0  0.0  0.000000   0.0  0.314815      0.0  0.067669  0.333333\n",
       "1  0.0  0.043478   0.0  0.292593      0.0  0.082707  0.367816\n",
       "2  0.0  0.086957   0.0  0.281481      0.0  0.112782  0.367816\n",
       "3  0.0  0.130435   0.0  0.244444      0.0  0.105263  0.402299\n",
       "4  0.0  0.173913   0.0  0.307407      0.0  0.210526  0.344828"
      ]
     },
     "execution_count": 355,
     "metadata": {},
     "output_type": "execute_result"
    }
   ],
   "source": [
    "X.head()"
   ]
  },
  {
   "cell_type": "code",
   "execution_count": 356,
   "id": "cfe324ed",
   "metadata": {},
   "outputs": [
    {
     "data": {
      "text/html": [
       "<div>\n",
       "<style scoped>\n",
       "    .dataframe tbody tr th:only-of-type {\n",
       "        vertical-align: middle;\n",
       "    }\n",
       "\n",
       "    .dataframe tbody tr th {\n",
       "        vertical-align: top;\n",
       "    }\n",
       "\n",
       "    .dataframe thead th {\n",
       "        text-align: right;\n",
       "    }\n",
       "</style>\n",
       "<table border=\"1\" class=\"dataframe\">\n",
       "  <thead>\n",
       "    <tr style=\"text-align: right;\">\n",
       "      <th></th>\n",
       "      <th>전력소비량(kWh)</th>\n",
       "    </tr>\n",
       "  </thead>\n",
       "  <tbody>\n",
       "    <tr>\n",
       "      <th>0</th>\n",
       "      <td>0.042579</td>\n",
       "    </tr>\n",
       "    <tr>\n",
       "      <th>1</th>\n",
       "      <td>0.041092</td>\n",
       "    </tr>\n",
       "    <tr>\n",
       "      <th>2</th>\n",
       "      <td>0.038248</td>\n",
       "    </tr>\n",
       "    <tr>\n",
       "      <th>3</th>\n",
       "      <td>0.037419</td>\n",
       "    </tr>\n",
       "    <tr>\n",
       "      <th>4</th>\n",
       "      <td>0.038700</td>\n",
       "    </tr>\n",
       "  </tbody>\n",
       "</table>\n",
       "</div>"
      ],
      "text/plain": [
       "   전력소비량(kWh)\n",
       "0    0.042579\n",
       "1    0.041092\n",
       "2    0.038248\n",
       "3    0.037419\n",
       "4    0.038700"
      ]
     },
     "execution_count": 356,
     "metadata": {},
     "output_type": "execute_result"
    }
   ],
   "source": [
    "y.head()"
   ]
  },
  {
   "cell_type": "code",
   "execution_count": 357,
   "id": "c919fb3d",
   "metadata": {},
   "outputs": [],
   "source": [
    "model = RandomForestRegressor()"
   ]
  },
  {
   "cell_type": "code",
   "execution_count": 358,
   "id": "ecd545c8",
   "metadata": {},
   "outputs": [
    {
     "name": "stderr",
     "output_type": "stream",
     "text": [
      "C:\\Users\\tjoeun\\AppData\\Local\\Temp\\ipykernel_7768\\2489992722.py:1: DataConversionWarning: A column-vector y was passed when a 1d array was expected. Please change the shape of y to (n_samples,), for example using ravel().\n",
      "  model.fit(X, y)\n"
     ]
    },
    {
     "data": {
      "text/html": [
       "<style>#sk-container-id-5 {color: black;background-color: white;}#sk-container-id-5 pre{padding: 0;}#sk-container-id-5 div.sk-toggleable {background-color: white;}#sk-container-id-5 label.sk-toggleable__label {cursor: pointer;display: block;width: 100%;margin-bottom: 0;padding: 0.3em;box-sizing: border-box;text-align: center;}#sk-container-id-5 label.sk-toggleable__label-arrow:before {content: \"▸\";float: left;margin-right: 0.25em;color: #696969;}#sk-container-id-5 label.sk-toggleable__label-arrow:hover:before {color: black;}#sk-container-id-5 div.sk-estimator:hover label.sk-toggleable__label-arrow:before {color: black;}#sk-container-id-5 div.sk-toggleable__content {max-height: 0;max-width: 0;overflow: hidden;text-align: left;background-color: #f0f8ff;}#sk-container-id-5 div.sk-toggleable__content pre {margin: 0.2em;color: black;border-radius: 0.25em;background-color: #f0f8ff;}#sk-container-id-5 input.sk-toggleable__control:checked~div.sk-toggleable__content {max-height: 200px;max-width: 100%;overflow: auto;}#sk-container-id-5 input.sk-toggleable__control:checked~label.sk-toggleable__label-arrow:before {content: \"▾\";}#sk-container-id-5 div.sk-estimator input.sk-toggleable__control:checked~label.sk-toggleable__label {background-color: #d4ebff;}#sk-container-id-5 div.sk-label input.sk-toggleable__control:checked~label.sk-toggleable__label {background-color: #d4ebff;}#sk-container-id-5 input.sk-hidden--visually {border: 0;clip: rect(1px 1px 1px 1px);clip: rect(1px, 1px, 1px, 1px);height: 1px;margin: -1px;overflow: hidden;padding: 0;position: absolute;width: 1px;}#sk-container-id-5 div.sk-estimator {font-family: monospace;background-color: #f0f8ff;border: 1px dotted black;border-radius: 0.25em;box-sizing: border-box;margin-bottom: 0.5em;}#sk-container-id-5 div.sk-estimator:hover {background-color: #d4ebff;}#sk-container-id-5 div.sk-parallel-item::after {content: \"\";width: 100%;border-bottom: 1px solid gray;flex-grow: 1;}#sk-container-id-5 div.sk-label:hover label.sk-toggleable__label {background-color: #d4ebff;}#sk-container-id-5 div.sk-serial::before {content: \"\";position: absolute;border-left: 1px solid gray;box-sizing: border-box;top: 0;bottom: 0;left: 50%;z-index: 0;}#sk-container-id-5 div.sk-serial {display: flex;flex-direction: column;align-items: center;background-color: white;padding-right: 0.2em;padding-left: 0.2em;position: relative;}#sk-container-id-5 div.sk-item {position: relative;z-index: 1;}#sk-container-id-5 div.sk-parallel {display: flex;align-items: stretch;justify-content: center;background-color: white;position: relative;}#sk-container-id-5 div.sk-item::before, #sk-container-id-5 div.sk-parallel-item::before {content: \"\";position: absolute;border-left: 1px solid gray;box-sizing: border-box;top: 0;bottom: 0;left: 50%;z-index: -1;}#sk-container-id-5 div.sk-parallel-item {display: flex;flex-direction: column;z-index: 1;position: relative;background-color: white;}#sk-container-id-5 div.sk-parallel-item:first-child::after {align-self: flex-end;width: 50%;}#sk-container-id-5 div.sk-parallel-item:last-child::after {align-self: flex-start;width: 50%;}#sk-container-id-5 div.sk-parallel-item:only-child::after {width: 0;}#sk-container-id-5 div.sk-dashed-wrapped {border: 1px dashed gray;margin: 0 0.4em 0.5em 0.4em;box-sizing: border-box;padding-bottom: 0.4em;background-color: white;}#sk-container-id-5 div.sk-label label {font-family: monospace;font-weight: bold;display: inline-block;line-height: 1.2em;}#sk-container-id-5 div.sk-label-container {text-align: center;}#sk-container-id-5 div.sk-container {/* jupyter's `normalize.less` sets `[hidden] { display: none; }` but bootstrap.min.css set `[hidden] { display: none !important; }` so we also need the `!important` here to be able to override the default hidden behavior on the sphinx rendered scikit-learn.org. See: https://github.com/scikit-learn/scikit-learn/issues/21755 */display: inline-block !important;position: relative;}#sk-container-id-5 div.sk-text-repr-fallback {display: none;}</style><div id=\"sk-container-id-5\" class=\"sk-top-container\"><div class=\"sk-text-repr-fallback\"><pre>RandomForestRegressor()</pre><b>In a Jupyter environment, please rerun this cell to show the HTML representation or trust the notebook. <br />On GitHub, the HTML representation is unable to render, please try loading this page with nbviewer.org.</b></div><div class=\"sk-container\" hidden><div class=\"sk-item\"><div class=\"sk-estimator sk-toggleable\"><input class=\"sk-toggleable__control sk-hidden--visually\" id=\"sk-estimator-id-5\" type=\"checkbox\" checked><label for=\"sk-estimator-id-5\" class=\"sk-toggleable__label sk-toggleable__label-arrow\">RandomForestRegressor</label><div class=\"sk-toggleable__content\"><pre>RandomForestRegressor()</pre></div></div></div></div></div>"
      ],
      "text/plain": [
       "RandomForestRegressor()"
      ]
     },
     "execution_count": 358,
     "metadata": {},
     "output_type": "execute_result"
    }
   ],
   "source": [
    "model.fit(X, y)"
   ]
  },
  {
   "cell_type": "code",
   "execution_count": null,
   "id": "98caaf51",
   "metadata": {},
   "outputs": [],
   "source": []
  },
  {
   "cell_type": "code",
   "execution_count": 359,
   "id": "ade151cb",
   "metadata": {},
   "outputs": [],
   "source": [
    "test = pd.read_csv('../power/test.csv')"
   ]
  },
  {
   "cell_type": "code",
   "execution_count": 360,
   "id": "72438663",
   "metadata": {},
   "outputs": [
    {
     "data": {
      "text/html": [
       "<div>\n",
       "<style scoped>\n",
       "    .dataframe tbody tr th:only-of-type {\n",
       "        vertical-align: middle;\n",
       "    }\n",
       "\n",
       "    .dataframe tbody tr th {\n",
       "        vertical-align: top;\n",
       "    }\n",
       "\n",
       "    .dataframe thead th {\n",
       "        text-align: right;\n",
       "    }\n",
       "</style>\n",
       "<table border=\"1\" class=\"dataframe\">\n",
       "  <thead>\n",
       "    <tr style=\"text-align: right;\">\n",
       "      <th></th>\n",
       "      <th>num_date_time</th>\n",
       "      <th>건물번호</th>\n",
       "      <th>일시</th>\n",
       "      <th>기온(C)</th>\n",
       "      <th>강수량(mm)</th>\n",
       "      <th>풍속(m/s)</th>\n",
       "      <th>습도(%)</th>\n",
       "    </tr>\n",
       "  </thead>\n",
       "  <tbody>\n",
       "    <tr>\n",
       "      <th>0</th>\n",
       "      <td>1_20220825 00</td>\n",
       "      <td>1</td>\n",
       "      <td>20220825 00</td>\n",
       "      <td>23.5</td>\n",
       "      <td>0.0</td>\n",
       "      <td>2.2</td>\n",
       "      <td>72</td>\n",
       "    </tr>\n",
       "    <tr>\n",
       "      <th>1</th>\n",
       "      <td>1_20220825 01</td>\n",
       "      <td>1</td>\n",
       "      <td>20220825 01</td>\n",
       "      <td>23.0</td>\n",
       "      <td>0.0</td>\n",
       "      <td>0.9</td>\n",
       "      <td>72</td>\n",
       "    </tr>\n",
       "    <tr>\n",
       "      <th>2</th>\n",
       "      <td>1_20220825 02</td>\n",
       "      <td>1</td>\n",
       "      <td>20220825 02</td>\n",
       "      <td>22.7</td>\n",
       "      <td>0.0</td>\n",
       "      <td>1.5</td>\n",
       "      <td>75</td>\n",
       "    </tr>\n",
       "    <tr>\n",
       "      <th>3</th>\n",
       "      <td>1_20220825 03</td>\n",
       "      <td>1</td>\n",
       "      <td>20220825 03</td>\n",
       "      <td>22.1</td>\n",
       "      <td>0.0</td>\n",
       "      <td>1.3</td>\n",
       "      <td>78</td>\n",
       "    </tr>\n",
       "    <tr>\n",
       "      <th>4</th>\n",
       "      <td>1_20220825 04</td>\n",
       "      <td>1</td>\n",
       "      <td>20220825 04</td>\n",
       "      <td>21.8</td>\n",
       "      <td>0.0</td>\n",
       "      <td>1.0</td>\n",
       "      <td>77</td>\n",
       "    </tr>\n",
       "  </tbody>\n",
       "</table>\n",
       "</div>"
      ],
      "text/plain": [
       "   num_date_time  건물번호           일시  기온(C)  강수량(mm)  풍속(m/s)  습도(%)\n",
       "0  1_20220825 00     1  20220825 00   23.5      0.0      2.2     72\n",
       "1  1_20220825 01     1  20220825 01   23.0      0.0      0.9     72\n",
       "2  1_20220825 02     1  20220825 02   22.7      0.0      1.5     75\n",
       "3  1_20220825 03     1  20220825 03   22.1      0.0      1.3     78\n",
       "4  1_20220825 04     1  20220825 04   21.8      0.0      1.0     77"
      ]
     },
     "execution_count": 360,
     "metadata": {},
     "output_type": "execute_result"
    }
   ],
   "source": [
    "test.head()"
   ]
  },
  {
   "cell_type": "code",
   "execution_count": null,
   "id": "4e9395b4",
   "metadata": {},
   "outputs": [],
   "source": []
  },
  {
   "cell_type": "code",
   "execution_count": null,
   "id": "85892b1b",
   "metadata": {},
   "outputs": [],
   "source": []
  },
  {
   "cell_type": "code",
   "execution_count": null,
   "id": "070b389f",
   "metadata": {},
   "outputs": [],
   "source": [
    "'''test['연도'] = test['일시'].apply(lambda x : int(x[:4]))\n",
    "test['월'] = test['일시'].apply(lambda x : int(x[4:6]))\n",
    "test['일'] = test['일시'].apply(lambda x : int(x[6:8]))\n",
    "test['시간'] = test['일시'].apply(lambda x : int(x[9:11]))'''"
   ]
  },
  {
   "cell_type": "code",
   "execution_count": null,
   "id": "3c01273a",
   "metadata": {},
   "outputs": [],
   "source": []
  },
  {
   "cell_type": "code",
   "execution_count": null,
   "id": "f8204946",
   "metadata": {},
   "outputs": [],
   "source": []
  },
  {
   "cell_type": "code",
   "execution_count": null,
   "id": "2956915e",
   "metadata": {},
   "outputs": [],
   "source": [
    "'''test['연도'] = test['일시'].apply(lambda x : int(x[:4]))\n",
    "test['월'] = test['일시'].apply(lambda x : int(x[4:6]))\n",
    "test['일'] = test['일시'].apply(lambda x : int(x[6:8]))\n",
    "test['시간'] = test['일시'].apply(lambda x : int(x[9:11]))'''"
   ]
  },
  {
   "cell_type": "code",
   "execution_count": null,
   "id": "f42e1b79",
   "metadata": {},
   "outputs": [],
   "source": []
  },
  {
   "cell_type": "code",
   "execution_count": 361,
   "id": "f5967734",
   "metadata": {},
   "outputs": [],
   "source": [
    "test['연월일'] = test['일시'].apply(lambda x : int(x[:8]))"
   ]
  },
  {
   "cell_type": "code",
   "execution_count": 362,
   "id": "d7f51cd7",
   "metadata": {},
   "outputs": [],
   "source": [
    "test['시간'] = test['일시'].apply(lambda x : int(x[9:11]))"
   ]
  },
  {
   "cell_type": "code",
   "execution_count": 363,
   "id": "b27e3b6d",
   "metadata": {},
   "outputs": [],
   "source": [
    "test = test.drop(['일시','num_date_time'], axis=1)"
   ]
  },
  {
   "cell_type": "code",
   "execution_count": 364,
   "id": "a15e4ace",
   "metadata": {},
   "outputs": [
    {
     "data": {
      "text/html": [
       "<div>\n",
       "<style scoped>\n",
       "    .dataframe tbody tr th:only-of-type {\n",
       "        vertical-align: middle;\n",
       "    }\n",
       "\n",
       "    .dataframe tbody tr th {\n",
       "        vertical-align: top;\n",
       "    }\n",
       "\n",
       "    .dataframe thead th {\n",
       "        text-align: right;\n",
       "    }\n",
       "</style>\n",
       "<table border=\"1\" class=\"dataframe\">\n",
       "  <thead>\n",
       "    <tr style=\"text-align: right;\">\n",
       "      <th></th>\n",
       "      <th>건물번호</th>\n",
       "      <th>기온(C)</th>\n",
       "      <th>강수량(mm)</th>\n",
       "      <th>풍속(m/s)</th>\n",
       "      <th>습도(%)</th>\n",
       "      <th>연월일</th>\n",
       "      <th>시간</th>\n",
       "    </tr>\n",
       "  </thead>\n",
       "  <tbody>\n",
       "    <tr>\n",
       "      <th>0</th>\n",
       "      <td>1</td>\n",
       "      <td>23.5</td>\n",
       "      <td>0.0</td>\n",
       "      <td>2.2</td>\n",
       "      <td>72</td>\n",
       "      <td>20220825</td>\n",
       "      <td>0</td>\n",
       "    </tr>\n",
       "    <tr>\n",
       "      <th>1</th>\n",
       "      <td>1</td>\n",
       "      <td>23.0</td>\n",
       "      <td>0.0</td>\n",
       "      <td>0.9</td>\n",
       "      <td>72</td>\n",
       "      <td>20220825</td>\n",
       "      <td>1</td>\n",
       "    </tr>\n",
       "    <tr>\n",
       "      <th>2</th>\n",
       "      <td>1</td>\n",
       "      <td>22.7</td>\n",
       "      <td>0.0</td>\n",
       "      <td>1.5</td>\n",
       "      <td>75</td>\n",
       "      <td>20220825</td>\n",
       "      <td>2</td>\n",
       "    </tr>\n",
       "    <tr>\n",
       "      <th>3</th>\n",
       "      <td>1</td>\n",
       "      <td>22.1</td>\n",
       "      <td>0.0</td>\n",
       "      <td>1.3</td>\n",
       "      <td>78</td>\n",
       "      <td>20220825</td>\n",
       "      <td>3</td>\n",
       "    </tr>\n",
       "    <tr>\n",
       "      <th>4</th>\n",
       "      <td>1</td>\n",
       "      <td>21.8</td>\n",
       "      <td>0.0</td>\n",
       "      <td>1.0</td>\n",
       "      <td>77</td>\n",
       "      <td>20220825</td>\n",
       "      <td>4</td>\n",
       "    </tr>\n",
       "  </tbody>\n",
       "</table>\n",
       "</div>"
      ],
      "text/plain": [
       "   건물번호  기온(C)  강수량(mm)  풍속(m/s)  습도(%)       연월일  시간\n",
       "0     1   23.5      0.0      2.2     72  20220825   0\n",
       "1     1   23.0      0.0      0.9     72  20220825   1\n",
       "2     1   22.7      0.0      1.5     75  20220825   2\n",
       "3     1   22.1      0.0      1.3     78  20220825   3\n",
       "4     1   21.8      0.0      1.0     77  20220825   4"
      ]
     },
     "execution_count": 364,
     "metadata": {},
     "output_type": "execute_result"
    }
   ],
   "source": [
    "test.head()"
   ]
  },
  {
   "cell_type": "code",
   "execution_count": 365,
   "id": "18607fc5",
   "metadata": {},
   "outputs": [],
   "source": [
    "test = test[[\"연월일\", \"시간\", \"건물번호\",\"기온(C)\", \"강수량(mm)\", \"풍속(m/s)\", \"습도(%)\"]]"
   ]
  },
  {
   "cell_type": "code",
   "execution_count": 286,
   "id": "cdf58dd4",
   "metadata": {},
   "outputs": [],
   "source": [
    "#test_day = test[~test[\"연월일\"].isin([20220827,20220828])]"
   ]
  },
  {
   "cell_type": "code",
   "execution_count": null,
   "id": "08ef1270",
   "metadata": {},
   "outputs": [],
   "source": []
  },
  {
   "cell_type": "code",
   "execution_count": null,
   "id": "c376de50",
   "metadata": {},
   "outputs": [],
   "source": []
  },
  {
   "cell_type": "code",
   "execution_count": null,
   "id": "fb81bc70",
   "metadata": {},
   "outputs": [],
   "source": []
  },
  {
   "cell_type": "code",
   "execution_count": null,
   "id": "86c75b80",
   "metadata": {},
   "outputs": [],
   "source": []
  },
  {
   "cell_type": "code",
   "execution_count": 366,
   "id": "f4b0a30e",
   "metadata": {},
   "outputs": [
    {
     "data": {
      "text/html": [
       "<div>\n",
       "<style scoped>\n",
       "    .dataframe tbody tr th:only-of-type {\n",
       "        vertical-align: middle;\n",
       "    }\n",
       "\n",
       "    .dataframe tbody tr th {\n",
       "        vertical-align: top;\n",
       "    }\n",
       "\n",
       "    .dataframe thead th {\n",
       "        text-align: right;\n",
       "    }\n",
       "</style>\n",
       "<table border=\"1\" class=\"dataframe\">\n",
       "  <thead>\n",
       "    <tr style=\"text-align: right;\">\n",
       "      <th></th>\n",
       "      <th>연월일</th>\n",
       "      <th>시간</th>\n",
       "      <th>건물번호</th>\n",
       "      <th>기온(C)</th>\n",
       "      <th>강수량(mm)</th>\n",
       "      <th>풍속(m/s)</th>\n",
       "      <th>습도(%)</th>\n",
       "    </tr>\n",
       "  </thead>\n",
       "  <tbody>\n",
       "    <tr>\n",
       "      <th>0</th>\n",
       "      <td>20220825</td>\n",
       "      <td>0</td>\n",
       "      <td>1</td>\n",
       "      <td>23.5</td>\n",
       "      <td>0.0</td>\n",
       "      <td>2.2</td>\n",
       "      <td>72</td>\n",
       "    </tr>\n",
       "    <tr>\n",
       "      <th>1</th>\n",
       "      <td>20220825</td>\n",
       "      <td>1</td>\n",
       "      <td>1</td>\n",
       "      <td>23.0</td>\n",
       "      <td>0.0</td>\n",
       "      <td>0.9</td>\n",
       "      <td>72</td>\n",
       "    </tr>\n",
       "    <tr>\n",
       "      <th>2</th>\n",
       "      <td>20220825</td>\n",
       "      <td>2</td>\n",
       "      <td>1</td>\n",
       "      <td>22.7</td>\n",
       "      <td>0.0</td>\n",
       "      <td>1.5</td>\n",
       "      <td>75</td>\n",
       "    </tr>\n",
       "    <tr>\n",
       "      <th>3</th>\n",
       "      <td>20220825</td>\n",
       "      <td>3</td>\n",
       "      <td>1</td>\n",
       "      <td>22.1</td>\n",
       "      <td>0.0</td>\n",
       "      <td>1.3</td>\n",
       "      <td>78</td>\n",
       "    </tr>\n",
       "    <tr>\n",
       "      <th>4</th>\n",
       "      <td>20220825</td>\n",
       "      <td>4</td>\n",
       "      <td>1</td>\n",
       "      <td>21.8</td>\n",
       "      <td>0.0</td>\n",
       "      <td>1.0</td>\n",
       "      <td>77</td>\n",
       "    </tr>\n",
       "  </tbody>\n",
       "</table>\n",
       "</div>"
      ],
      "text/plain": [
       "        연월일  시간  건물번호  기온(C)  강수량(mm)  풍속(m/s)  습도(%)\n",
       "0  20220825   0     1   23.5      0.0      2.2     72\n",
       "1  20220825   1     1   23.0      0.0      0.9     72\n",
       "2  20220825   2     1   22.7      0.0      1.5     75\n",
       "3  20220825   3     1   22.1      0.0      1.3     78\n",
       "4  20220825   4     1   21.8      0.0      1.0     77"
      ]
     },
     "execution_count": 366,
     "metadata": {},
     "output_type": "execute_result"
    }
   ],
   "source": [
    "test.head()"
   ]
  },
  {
   "cell_type": "code",
   "execution_count": null,
   "id": "1540715b",
   "metadata": {},
   "outputs": [],
   "source": []
  },
  {
   "cell_type": "code",
   "execution_count": null,
   "id": "6c8018ed",
   "metadata": {},
   "outputs": [],
   "source": []
  },
  {
   "cell_type": "code",
   "execution_count": 367,
   "id": "711619b7",
   "metadata": {},
   "outputs": [],
   "source": [
    "# 정규화하기\n",
    "# MinMaxScaler 클래스 생성\n",
    "scaler = MinMaxScaler()\n",
    "\n",
    "# MinMaxScaler 클래스의 fit_transform() 메서드 사용 데이터 정규화\n",
    "normalized_data = scaler.fit_transform(test)\n",
    "\n",
    "# 정규화된 데이터, 데이터 프레임으로 다시 변환\n",
    "tndf = pd.DataFrame(normalized_data, columns=test.columns)"
   ]
  },
  {
   "cell_type": "code",
   "execution_count": 368,
   "id": "95346e9e",
   "metadata": {},
   "outputs": [],
   "source": [
    "#예측하기\n",
    "test_pred = model.predict(tndf)"
   ]
  },
  {
   "cell_type": "code",
   "execution_count": 369,
   "id": "0e5fd597",
   "metadata": {},
   "outputs": [],
   "source": [
    "tndf['pred']=test_pred"
   ]
  },
  {
   "cell_type": "code",
   "execution_count": 370,
   "id": "4b01ca44",
   "metadata": {},
   "outputs": [],
   "source": [
    "# 역정규화\n",
    "min_value = 0.0\n",
    "max_value = 25488.4\n",
    "tndf['real_pred'] = tndf['pred'] * (max_value - min_value) + min_value "
   ]
  },
  {
   "cell_type": "code",
   "execution_count": 371,
   "id": "a66b4cd7",
   "metadata": {},
   "outputs": [],
   "source": [
    "#제출\n",
    "submission = pd.read_csv('../power/sample_submission.csv')\n",
    "submission['answer'] = tndf['real_pred']"
   ]
  },
  {
   "cell_type": "code",
   "execution_count": 293,
   "id": "ce26f183",
   "metadata": {},
   "outputs": [
    {
     "data": {
      "text/html": [
       "<div>\n",
       "<style scoped>\n",
       "    .dataframe tbody tr th:only-of-type {\n",
       "        vertical-align: middle;\n",
       "    }\n",
       "\n",
       "    .dataframe tbody tr th {\n",
       "        vertical-align: top;\n",
       "    }\n",
       "\n",
       "    .dataframe thead th {\n",
       "        text-align: right;\n",
       "    }\n",
       "</style>\n",
       "<table border=\"1\" class=\"dataframe\">\n",
       "  <thead>\n",
       "    <tr style=\"text-align: right;\">\n",
       "      <th></th>\n",
       "      <th>num_date_time</th>\n",
       "      <th>answer</th>\n",
       "      <th>연월일</th>\n",
       "    </tr>\n",
       "  </thead>\n",
       "  <tbody>\n",
       "    <tr>\n",
       "      <th>0</th>\n",
       "      <td>1_20220825 00</td>\n",
       "      <td>1097.0736</td>\n",
       "      <td>20220825</td>\n",
       "    </tr>\n",
       "    <tr>\n",
       "      <th>1</th>\n",
       "      <td>1_20220825 01</td>\n",
       "      <td>1045.4880</td>\n",
       "      <td>20220825</td>\n",
       "    </tr>\n",
       "    <tr>\n",
       "      <th>2</th>\n",
       "      <td>1_20220825 02</td>\n",
       "      <td>984.1920</td>\n",
       "      <td>20220825</td>\n",
       "    </tr>\n",
       "    <tr>\n",
       "      <th>3</th>\n",
       "      <td>1_20220825 03</td>\n",
       "      <td>980.1648</td>\n",
       "      <td>20220825</td>\n",
       "    </tr>\n",
       "    <tr>\n",
       "      <th>4</th>\n",
       "      <td>1_20220825 04</td>\n",
       "      <td>979.0752</td>\n",
       "      <td>20220825</td>\n",
       "    </tr>\n",
       "  </tbody>\n",
       "</table>\n",
       "</div>"
      ],
      "text/plain": [
       "   num_date_time     answer       연월일\n",
       "0  1_20220825 00  1097.0736  20220825\n",
       "1  1_20220825 01  1045.4880  20220825\n",
       "2  1_20220825 02   984.1920  20220825\n",
       "3  1_20220825 03   980.1648  20220825\n",
       "4  1_20220825 04   979.0752  20220825"
      ]
     },
     "execution_count": 293,
     "metadata": {},
     "output_type": "execute_result"
    }
   ],
   "source": [
    "#submission_weekday['answer'] = tndf['real_pred']\n",
    "#submission_weekday.head()"
   ]
  },
  {
   "cell_type": "code",
   "execution_count": null,
   "id": "eba541c2",
   "metadata": {},
   "outputs": [],
   "source": []
  },
  {
   "cell_type": "code",
   "execution_count": 372,
   "id": "b4b2c5ae",
   "metadata": {},
   "outputs": [],
   "source": [
    "submission.to_csv('../power/power_20230813.csv', index=  False)"
   ]
  },
  {
   "cell_type": "code",
   "execution_count": 373,
   "id": "2aab9234",
   "metadata": {},
   "outputs": [
    {
     "data": {
      "text/html": [
       "<div>\n",
       "<style scoped>\n",
       "    .dataframe tbody tr th:only-of-type {\n",
       "        vertical-align: middle;\n",
       "    }\n",
       "\n",
       "    .dataframe tbody tr th {\n",
       "        vertical-align: top;\n",
       "    }\n",
       "\n",
       "    .dataframe thead th {\n",
       "        text-align: right;\n",
       "    }\n",
       "</style>\n",
       "<table border=\"1\" class=\"dataframe\">\n",
       "  <thead>\n",
       "    <tr style=\"text-align: right;\">\n",
       "      <th></th>\n",
       "      <th>num_date_time</th>\n",
       "      <th>answer</th>\n",
       "    </tr>\n",
       "  </thead>\n",
       "  <tbody>\n",
       "    <tr>\n",
       "      <th>0</th>\n",
       "      <td>1_20220825 00</td>\n",
       "      <td>1335.3552</td>\n",
       "    </tr>\n",
       "    <tr>\n",
       "      <th>1</th>\n",
       "      <td>1_20220825 01</td>\n",
       "      <td>1048.6896</td>\n",
       "    </tr>\n",
       "    <tr>\n",
       "      <th>2</th>\n",
       "      <td>1_20220825 02</td>\n",
       "      <td>994.7328</td>\n",
       "    </tr>\n",
       "    <tr>\n",
       "      <th>3</th>\n",
       "      <td>1_20220825 03</td>\n",
       "      <td>972.9408</td>\n",
       "    </tr>\n",
       "    <tr>\n",
       "      <th>4</th>\n",
       "      <td>1_20220825 04</td>\n",
       "      <td>965.0448</td>\n",
       "    </tr>\n",
       "  </tbody>\n",
       "</table>\n",
       "</div>"
      ],
      "text/plain": [
       "   num_date_time     answer\n",
       "0  1_20220825 00  1335.3552\n",
       "1  1_20220825 01  1048.6896\n",
       "2  1_20220825 02   994.7328\n",
       "3  1_20220825 03   972.9408\n",
       "4  1_20220825 04   965.0448"
      ]
     },
     "execution_count": 373,
     "metadata": {},
     "output_type": "execute_result"
    }
   ],
   "source": [
    "submission.head()"
   ]
  },
  {
   "cell_type": "code",
   "execution_count": null,
   "id": "6bd9ea2d",
   "metadata": {},
   "outputs": [],
   "source": []
  },
  {
   "cell_type": "code",
   "execution_count": null,
   "id": "7fdecf54",
   "metadata": {},
   "outputs": [],
   "source": [
    "#주말"
   ]
  },
  {
   "cell_type": "code",
   "execution_count": 374,
   "id": "588a8738",
   "metadata": {},
   "outputs": [
    {
     "data": {
      "text/html": [
       "<div>\n",
       "<style scoped>\n",
       "    .dataframe tbody tr th:only-of-type {\n",
       "        vertical-align: middle;\n",
       "    }\n",
       "\n",
       "    .dataframe tbody tr th {\n",
       "        vertical-align: top;\n",
       "    }\n",
       "\n",
       "    .dataframe thead th {\n",
       "        text-align: right;\n",
       "    }\n",
       "</style>\n",
       "<table border=\"1\" class=\"dataframe\">\n",
       "  <thead>\n",
       "    <tr style=\"text-align: right;\">\n",
       "      <th></th>\n",
       "      <th>연월일</th>\n",
       "      <th>시간</th>\n",
       "      <th>건물번호</th>\n",
       "      <th>기온(C)</th>\n",
       "      <th>강수량(mm)</th>\n",
       "      <th>풍속(m/s)</th>\n",
       "      <th>습도(%)</th>\n",
       "      <th>전력소비량(kWh)</th>\n",
       "    </tr>\n",
       "  </thead>\n",
       "  <tbody>\n",
       "    <tr>\n",
       "      <th>72</th>\n",
       "      <td>20220604</td>\n",
       "      <td>0</td>\n",
       "      <td>1</td>\n",
       "      <td>22.3</td>\n",
       "      <td>0.0</td>\n",
       "      <td>2.2</td>\n",
       "      <td>76.0</td>\n",
       "      <td>1203.84</td>\n",
       "    </tr>\n",
       "    <tr>\n",
       "      <th>73</th>\n",
       "      <td>20220604</td>\n",
       "      <td>1</td>\n",
       "      <td>1</td>\n",
       "      <td>21.6</td>\n",
       "      <td>0.0</td>\n",
       "      <td>1.7</td>\n",
       "      <td>81.0</td>\n",
       "      <td>1119.36</td>\n",
       "    </tr>\n",
       "    <tr>\n",
       "      <th>74</th>\n",
       "      <td>20220604</td>\n",
       "      <td>2</td>\n",
       "      <td>1</td>\n",
       "      <td>21.5</td>\n",
       "      <td>0.0</td>\n",
       "      <td>0.6</td>\n",
       "      <td>82.0</td>\n",
       "      <td>1026.72</td>\n",
       "    </tr>\n",
       "    <tr>\n",
       "      <th>75</th>\n",
       "      <td>20220604</td>\n",
       "      <td>3</td>\n",
       "      <td>1</td>\n",
       "      <td>21.4</td>\n",
       "      <td>0.0</td>\n",
       "      <td>1.0</td>\n",
       "      <td>81.0</td>\n",
       "      <td>992.64</td>\n",
       "    </tr>\n",
       "    <tr>\n",
       "      <th>76</th>\n",
       "      <td>20220604</td>\n",
       "      <td>4</td>\n",
       "      <td>1</td>\n",
       "      <td>21.0</td>\n",
       "      <td>0.0</td>\n",
       "      <td>0.9</td>\n",
       "      <td>83.0</td>\n",
       "      <td>1022.88</td>\n",
       "    </tr>\n",
       "    <tr>\n",
       "      <th>...</th>\n",
       "      <td>...</td>\n",
       "      <td>...</td>\n",
       "      <td>...</td>\n",
       "      <td>...</td>\n",
       "      <td>...</td>\n",
       "      <td>...</td>\n",
       "      <td>...</td>\n",
       "      <td>...</td>\n",
       "    </tr>\n",
       "    <tr>\n",
       "      <th>203923</th>\n",
       "      <td>20220821</td>\n",
       "      <td>19</td>\n",
       "      <td>100</td>\n",
       "      <td>27.9</td>\n",
       "      <td>0.0</td>\n",
       "      <td>0.7</td>\n",
       "      <td>78.0</td>\n",
       "      <td>1097.52</td>\n",
       "    </tr>\n",
       "    <tr>\n",
       "      <th>203924</th>\n",
       "      <td>20220821</td>\n",
       "      <td>20</td>\n",
       "      <td>100</td>\n",
       "      <td>26.5</td>\n",
       "      <td>0.0</td>\n",
       "      <td>0.6</td>\n",
       "      <td>85.0</td>\n",
       "      <td>981.12</td>\n",
       "    </tr>\n",
       "    <tr>\n",
       "      <th>203925</th>\n",
       "      <td>20220821</td>\n",
       "      <td>21</td>\n",
       "      <td>100</td>\n",
       "      <td>25.4</td>\n",
       "      <td>0.0</td>\n",
       "      <td>0.3</td>\n",
       "      <td>90.0</td>\n",
       "      <td>924.72</td>\n",
       "    </tr>\n",
       "    <tr>\n",
       "      <th>203926</th>\n",
       "      <td>20220821</td>\n",
       "      <td>22</td>\n",
       "      <td>100</td>\n",
       "      <td>24.9</td>\n",
       "      <td>0.0</td>\n",
       "      <td>0.3</td>\n",
       "      <td>94.0</td>\n",
       "      <td>881.52</td>\n",
       "    </tr>\n",
       "    <tr>\n",
       "      <th>203927</th>\n",
       "      <td>20220821</td>\n",
       "      <td>23</td>\n",
       "      <td>100</td>\n",
       "      <td>24.3</td>\n",
       "      <td>0.0</td>\n",
       "      <td>0.2</td>\n",
       "      <td>97.0</td>\n",
       "      <td>676.56</td>\n",
       "    </tr>\n",
       "  </tbody>\n",
       "</table>\n",
       "<p>57600 rows × 8 columns</p>\n",
       "</div>"
      ],
      "text/plain": [
       "             연월일  시간  건물번호  기온(C)  강수량(mm)  풍속(m/s)  습도(%)  전력소비량(kWh)\n",
       "72      20220604   0     1   22.3      0.0      2.2   76.0     1203.84\n",
       "73      20220604   1     1   21.6      0.0      1.7   81.0     1119.36\n",
       "74      20220604   2     1   21.5      0.0      0.6   82.0     1026.72\n",
       "75      20220604   3     1   21.4      0.0      1.0   81.0      992.64\n",
       "76      20220604   4     1   21.0      0.0      0.9   83.0     1022.88\n",
       "...          ...  ..   ...    ...      ...      ...    ...         ...\n",
       "203923  20220821  19   100   27.9      0.0      0.7   78.0     1097.52\n",
       "203924  20220821  20   100   26.5      0.0      0.6   85.0      981.12\n",
       "203925  20220821  21   100   25.4      0.0      0.3   90.0      924.72\n",
       "203926  20220821  22   100   24.9      0.0      0.3   94.0      881.52\n",
       "203927  20220821  23   100   24.3      0.0      0.2   97.0      676.56\n",
       "\n",
       "[57600 rows x 8 columns]"
      ]
     },
     "execution_count": 374,
     "metadata": {},
     "output_type": "execute_result"
    }
   ],
   "source": [
    "df_weekend"
   ]
  },
  {
   "cell_type": "code",
   "execution_count": 375,
   "id": "a5168314",
   "metadata": {},
   "outputs": [],
   "source": [
    "# 정규화하기\n",
    "# MinMaxScaler 클래스 생성\n",
    "scaler = MinMaxScaler()\n",
    "\n",
    "# MinMaxScaler 클래스의 fit_transform() 메서드 사용 데이터 정규화\n",
    "normalized_data = scaler.fit_transform(df_weekend)\n",
    "\n",
    "# 정규화된 데이터, 데이터 프레임으로 다시 변환\n",
    "ndf = pd.DataFrame(normalized_data, columns=df_weekend.columns)"
   ]
  },
  {
   "cell_type": "code",
   "execution_count": 376,
   "id": "58a7ddae",
   "metadata": {},
   "outputs": [],
   "source": [
    "X = ndf.iloc[:, :-1]\n",
    "y = ndf.iloc[:,[-1]]"
   ]
  },
  {
   "cell_type": "code",
   "execution_count": 377,
   "id": "0cb5fce4",
   "metadata": {},
   "outputs": [],
   "source": [
    "model = RandomForestRegressor()"
   ]
  },
  {
   "cell_type": "code",
   "execution_count": 378,
   "id": "eb78a2ce",
   "metadata": {},
   "outputs": [
    {
     "name": "stderr",
     "output_type": "stream",
     "text": [
      "C:\\Users\\tjoeun\\AppData\\Local\\Temp\\ipykernel_7768\\2489992722.py:1: DataConversionWarning: A column-vector y was passed when a 1d array was expected. Please change the shape of y to (n_samples,), for example using ravel().\n",
      "  model.fit(X, y)\n"
     ]
    },
    {
     "data": {
      "text/html": [
       "<style>#sk-container-id-6 {color: black;background-color: white;}#sk-container-id-6 pre{padding: 0;}#sk-container-id-6 div.sk-toggleable {background-color: white;}#sk-container-id-6 label.sk-toggleable__label {cursor: pointer;display: block;width: 100%;margin-bottom: 0;padding: 0.3em;box-sizing: border-box;text-align: center;}#sk-container-id-6 label.sk-toggleable__label-arrow:before {content: \"▸\";float: left;margin-right: 0.25em;color: #696969;}#sk-container-id-6 label.sk-toggleable__label-arrow:hover:before {color: black;}#sk-container-id-6 div.sk-estimator:hover label.sk-toggleable__label-arrow:before {color: black;}#sk-container-id-6 div.sk-toggleable__content {max-height: 0;max-width: 0;overflow: hidden;text-align: left;background-color: #f0f8ff;}#sk-container-id-6 div.sk-toggleable__content pre {margin: 0.2em;color: black;border-radius: 0.25em;background-color: #f0f8ff;}#sk-container-id-6 input.sk-toggleable__control:checked~div.sk-toggleable__content {max-height: 200px;max-width: 100%;overflow: auto;}#sk-container-id-6 input.sk-toggleable__control:checked~label.sk-toggleable__label-arrow:before {content: \"▾\";}#sk-container-id-6 div.sk-estimator input.sk-toggleable__control:checked~label.sk-toggleable__label {background-color: #d4ebff;}#sk-container-id-6 div.sk-label input.sk-toggleable__control:checked~label.sk-toggleable__label {background-color: #d4ebff;}#sk-container-id-6 input.sk-hidden--visually {border: 0;clip: rect(1px 1px 1px 1px);clip: rect(1px, 1px, 1px, 1px);height: 1px;margin: -1px;overflow: hidden;padding: 0;position: absolute;width: 1px;}#sk-container-id-6 div.sk-estimator {font-family: monospace;background-color: #f0f8ff;border: 1px dotted black;border-radius: 0.25em;box-sizing: border-box;margin-bottom: 0.5em;}#sk-container-id-6 div.sk-estimator:hover {background-color: #d4ebff;}#sk-container-id-6 div.sk-parallel-item::after {content: \"\";width: 100%;border-bottom: 1px solid gray;flex-grow: 1;}#sk-container-id-6 div.sk-label:hover label.sk-toggleable__label {background-color: #d4ebff;}#sk-container-id-6 div.sk-serial::before {content: \"\";position: absolute;border-left: 1px solid gray;box-sizing: border-box;top: 0;bottom: 0;left: 50%;z-index: 0;}#sk-container-id-6 div.sk-serial {display: flex;flex-direction: column;align-items: center;background-color: white;padding-right: 0.2em;padding-left: 0.2em;position: relative;}#sk-container-id-6 div.sk-item {position: relative;z-index: 1;}#sk-container-id-6 div.sk-parallel {display: flex;align-items: stretch;justify-content: center;background-color: white;position: relative;}#sk-container-id-6 div.sk-item::before, #sk-container-id-6 div.sk-parallel-item::before {content: \"\";position: absolute;border-left: 1px solid gray;box-sizing: border-box;top: 0;bottom: 0;left: 50%;z-index: -1;}#sk-container-id-6 div.sk-parallel-item {display: flex;flex-direction: column;z-index: 1;position: relative;background-color: white;}#sk-container-id-6 div.sk-parallel-item:first-child::after {align-self: flex-end;width: 50%;}#sk-container-id-6 div.sk-parallel-item:last-child::after {align-self: flex-start;width: 50%;}#sk-container-id-6 div.sk-parallel-item:only-child::after {width: 0;}#sk-container-id-6 div.sk-dashed-wrapped {border: 1px dashed gray;margin: 0 0.4em 0.5em 0.4em;box-sizing: border-box;padding-bottom: 0.4em;background-color: white;}#sk-container-id-6 div.sk-label label {font-family: monospace;font-weight: bold;display: inline-block;line-height: 1.2em;}#sk-container-id-6 div.sk-label-container {text-align: center;}#sk-container-id-6 div.sk-container {/* jupyter's `normalize.less` sets `[hidden] { display: none; }` but bootstrap.min.css set `[hidden] { display: none !important; }` so we also need the `!important` here to be able to override the default hidden behavior on the sphinx rendered scikit-learn.org. See: https://github.com/scikit-learn/scikit-learn/issues/21755 */display: inline-block !important;position: relative;}#sk-container-id-6 div.sk-text-repr-fallback {display: none;}</style><div id=\"sk-container-id-6\" class=\"sk-top-container\"><div class=\"sk-text-repr-fallback\"><pre>RandomForestRegressor()</pre><b>In a Jupyter environment, please rerun this cell to show the HTML representation or trust the notebook. <br />On GitHub, the HTML representation is unable to render, please try loading this page with nbviewer.org.</b></div><div class=\"sk-container\" hidden><div class=\"sk-item\"><div class=\"sk-estimator sk-toggleable\"><input class=\"sk-toggleable__control sk-hidden--visually\" id=\"sk-estimator-id-6\" type=\"checkbox\" checked><label for=\"sk-estimator-id-6\" class=\"sk-toggleable__label sk-toggleable__label-arrow\">RandomForestRegressor</label><div class=\"sk-toggleable__content\"><pre>RandomForestRegressor()</pre></div></div></div></div></div>"
      ],
      "text/plain": [
       "RandomForestRegressor()"
      ]
     },
     "execution_count": 378,
     "metadata": {},
     "output_type": "execute_result"
    }
   ],
   "source": [
    "model.fit(X, y)"
   ]
  },
  {
   "cell_type": "code",
   "execution_count": null,
   "id": "ec9dcbf5",
   "metadata": {},
   "outputs": [],
   "source": []
  },
  {
   "cell_type": "code",
   "execution_count": 381,
   "id": "5649e8ea",
   "metadata": {},
   "outputs": [],
   "source": [
    "test = pd.read_csv('../power/test.csv')"
   ]
  },
  {
   "cell_type": "code",
   "execution_count": null,
   "id": "78474d84",
   "metadata": {},
   "outputs": [],
   "source": [
    "test.head()"
   ]
  },
  {
   "cell_type": "code",
   "execution_count": null,
   "id": "6ce6ccd5",
   "metadata": {},
   "outputs": [],
   "source": []
  },
  {
   "cell_type": "code",
   "execution_count": 382,
   "id": "fce9c921",
   "metadata": {},
   "outputs": [],
   "source": [
    "test['연월일'] = test['일시'].apply(lambda x : int(x[:8]))"
   ]
  },
  {
   "cell_type": "code",
   "execution_count": 383,
   "id": "a198475d",
   "metadata": {},
   "outputs": [],
   "source": [
    "test['시간'] = test['일시'].apply(lambda x : int(x[9:11]))"
   ]
  },
  {
   "cell_type": "code",
   "execution_count": 384,
   "id": "4c210182",
   "metadata": {},
   "outputs": [],
   "source": [
    "test = test[[\"연월일\", \"시간\", \"건물번호\",\"기온(C)\", \"강수량(mm)\", \"풍속(m/s)\", \"습도(%)\"]]"
   ]
  },
  {
   "cell_type": "code",
   "execution_count": 386,
   "id": "82d924eb",
   "metadata": {},
   "outputs": [
    {
     "data": {
      "text/html": [
       "<div>\n",
       "<style scoped>\n",
       "    .dataframe tbody tr th:only-of-type {\n",
       "        vertical-align: middle;\n",
       "    }\n",
       "\n",
       "    .dataframe tbody tr th {\n",
       "        vertical-align: top;\n",
       "    }\n",
       "\n",
       "    .dataframe thead th {\n",
       "        text-align: right;\n",
       "    }\n",
       "</style>\n",
       "<table border=\"1\" class=\"dataframe\">\n",
       "  <thead>\n",
       "    <tr style=\"text-align: right;\">\n",
       "      <th></th>\n",
       "      <th>연월일</th>\n",
       "      <th>시간</th>\n",
       "      <th>건물번호</th>\n",
       "      <th>기온(C)</th>\n",
       "      <th>강수량(mm)</th>\n",
       "      <th>풍속(m/s)</th>\n",
       "      <th>습도(%)</th>\n",
       "    </tr>\n",
       "  </thead>\n",
       "  <tbody>\n",
       "    <tr>\n",
       "      <th>0</th>\n",
       "      <td>20220825</td>\n",
       "      <td>0</td>\n",
       "      <td>1</td>\n",
       "      <td>23.5</td>\n",
       "      <td>0.0</td>\n",
       "      <td>2.2</td>\n",
       "      <td>72</td>\n",
       "    </tr>\n",
       "    <tr>\n",
       "      <th>1</th>\n",
       "      <td>20220825</td>\n",
       "      <td>1</td>\n",
       "      <td>1</td>\n",
       "      <td>23.0</td>\n",
       "      <td>0.0</td>\n",
       "      <td>0.9</td>\n",
       "      <td>72</td>\n",
       "    </tr>\n",
       "    <tr>\n",
       "      <th>2</th>\n",
       "      <td>20220825</td>\n",
       "      <td>2</td>\n",
       "      <td>1</td>\n",
       "      <td>22.7</td>\n",
       "      <td>0.0</td>\n",
       "      <td>1.5</td>\n",
       "      <td>75</td>\n",
       "    </tr>\n",
       "    <tr>\n",
       "      <th>3</th>\n",
       "      <td>20220825</td>\n",
       "      <td>3</td>\n",
       "      <td>1</td>\n",
       "      <td>22.1</td>\n",
       "      <td>0.0</td>\n",
       "      <td>1.3</td>\n",
       "      <td>78</td>\n",
       "    </tr>\n",
       "    <tr>\n",
       "      <th>4</th>\n",
       "      <td>20220825</td>\n",
       "      <td>4</td>\n",
       "      <td>1</td>\n",
       "      <td>21.8</td>\n",
       "      <td>0.0</td>\n",
       "      <td>1.0</td>\n",
       "      <td>77</td>\n",
       "    </tr>\n",
       "  </tbody>\n",
       "</table>\n",
       "</div>"
      ],
      "text/plain": [
       "        연월일  시간  건물번호  기온(C)  강수량(mm)  풍속(m/s)  습도(%)\n",
       "0  20220825   0     1   23.5      0.0      2.2     72\n",
       "1  20220825   1     1   23.0      0.0      0.9     72\n",
       "2  20220825   2     1   22.7      0.0      1.5     75\n",
       "3  20220825   3     1   22.1      0.0      1.3     78\n",
       "4  20220825   4     1   21.8      0.0      1.0     77"
      ]
     },
     "execution_count": 386,
     "metadata": {},
     "output_type": "execute_result"
    }
   ],
   "source": [
    "test.head()"
   ]
  },
  {
   "cell_type": "code",
   "execution_count": null,
   "id": "f14aaed4",
   "metadata": {},
   "outputs": [],
   "source": []
  },
  {
   "cell_type": "code",
   "execution_count": 387,
   "id": "39d37068",
   "metadata": {},
   "outputs": [],
   "source": [
    "# 정규화하기\n",
    "# MinMaxScaler 클래스 생성\n",
    "scaler = MinMaxScaler()\n",
    "\n",
    "# MinMaxScaler 클래스의 fit_transform() 메서드 사용 데이터 정규화\n",
    "normalized_data = scaler.fit_transform(test_weekend)\n",
    "\n",
    "# 정규화된 데이터, 데이터 프레임으로 다시 변환\n",
    "tndf = pd.DataFrame(normalized_data, columns=test_weekend.columns)"
   ]
  },
  {
   "cell_type": "code",
   "execution_count": 388,
   "id": "4722f57e",
   "metadata": {},
   "outputs": [],
   "source": [
    "test_pred = model.predict(tndf)"
   ]
  },
  {
   "cell_type": "code",
   "execution_count": 389,
   "id": "ba44147e",
   "metadata": {},
   "outputs": [],
   "source": [
    "tndf['pred']=test_pred"
   ]
  },
  {
   "cell_type": "code",
   "execution_count": 390,
   "id": "4ff00a65",
   "metadata": {},
   "outputs": [],
   "source": [
    "# 역정규화\n",
    "min_value = 0.0\n",
    "max_value = 25488.4\n",
    "tndf['real_pred'] = tndf['pred'] * (max_value - min_value) + min_value "
   ]
  },
  {
   "cell_type": "code",
   "execution_count": null,
   "id": "5600c4c2",
   "metadata": {},
   "outputs": [],
   "source": []
  },
  {
   "cell_type": "code",
   "execution_count": 391,
   "id": "ab7ca56b",
   "metadata": {},
   "outputs": [],
   "source": [
    "submission = pd.read_csv('../power/sample_submission.csv')"
   ]
  },
  {
   "cell_type": "code",
   "execution_count": 392,
   "id": "b6712453",
   "metadata": {},
   "outputs": [
    {
     "data": {
      "text/html": [
       "<div>\n",
       "<style scoped>\n",
       "    .dataframe tbody tr th:only-of-type {\n",
       "        vertical-align: middle;\n",
       "    }\n",
       "\n",
       "    .dataframe tbody tr th {\n",
       "        vertical-align: top;\n",
       "    }\n",
       "\n",
       "    .dataframe thead th {\n",
       "        text-align: right;\n",
       "    }\n",
       "</style>\n",
       "<table border=\"1\" class=\"dataframe\">\n",
       "  <thead>\n",
       "    <tr style=\"text-align: right;\">\n",
       "      <th></th>\n",
       "      <th>num_date_time</th>\n",
       "      <th>answer</th>\n",
       "    </tr>\n",
       "  </thead>\n",
       "  <tbody>\n",
       "    <tr>\n",
       "      <th>0</th>\n",
       "      <td>1_20220825 00</td>\n",
       "      <td>0</td>\n",
       "    </tr>\n",
       "    <tr>\n",
       "      <th>1</th>\n",
       "      <td>1_20220825 01</td>\n",
       "      <td>0</td>\n",
       "    </tr>\n",
       "    <tr>\n",
       "      <th>2</th>\n",
       "      <td>1_20220825 02</td>\n",
       "      <td>0</td>\n",
       "    </tr>\n",
       "    <tr>\n",
       "      <th>3</th>\n",
       "      <td>1_20220825 03</td>\n",
       "      <td>0</td>\n",
       "    </tr>\n",
       "    <tr>\n",
       "      <th>4</th>\n",
       "      <td>1_20220825 04</td>\n",
       "      <td>0</td>\n",
       "    </tr>\n",
       "  </tbody>\n",
       "</table>\n",
       "</div>"
      ],
      "text/plain": [
       "   num_date_time  answer\n",
       "0  1_20220825 00       0\n",
       "1  1_20220825 01       0\n",
       "2  1_20220825 02       0\n",
       "3  1_20220825 03       0\n",
       "4  1_20220825 04       0"
      ]
     },
     "execution_count": 392,
     "metadata": {},
     "output_type": "execute_result"
    }
   ],
   "source": [
    "submission.head()"
   ]
  },
  {
   "cell_type": "code",
   "execution_count": 393,
   "id": "19f6a534",
   "metadata": {},
   "outputs": [],
   "source": [
    "submission['answer'] = tndf['real_pred']"
   ]
  },
  {
   "cell_type": "code",
   "execution_count": 394,
   "id": "21617f75",
   "metadata": {},
   "outputs": [],
   "source": [
    "submission.to_csv('../power/power_2023081311.csv', index=  False)"
   ]
  },
  {
   "cell_type": "code",
   "execution_count": null,
   "id": "822944ae",
   "metadata": {},
   "outputs": [],
   "source": []
  },
  {
   "cell_type": "code",
   "execution_count": null,
   "id": "27d11ef1",
   "metadata": {},
   "outputs": [],
   "source": []
  },
  {
   "cell_type": "code",
   "execution_count": null,
   "id": "4e3233da",
   "metadata": {},
   "outputs": [],
   "source": [
    "#합치기"
   ]
  },
  {
   "cell_type": "code",
   "execution_count": 214,
   "id": "abf38c91",
   "metadata": {},
   "outputs": [],
   "source": [
    "answer1 = pd.read_csv('../power/power_weekday2.csv')\n",
    "answer2 = pd.read_csv('../power/power_weekend2.csv')"
   ]
  },
  {
   "cell_type": "code",
   "execution_count": 314,
   "id": "400062a0",
   "metadata": {},
   "outputs": [
    {
     "data": {
      "text/html": [
       "<div>\n",
       "<style scoped>\n",
       "    .dataframe tbody tr th:only-of-type {\n",
       "        vertical-align: middle;\n",
       "    }\n",
       "\n",
       "    .dataframe tbody tr th {\n",
       "        vertical-align: top;\n",
       "    }\n",
       "\n",
       "    .dataframe thead th {\n",
       "        text-align: right;\n",
       "    }\n",
       "</style>\n",
       "<table border=\"1\" class=\"dataframe\">\n",
       "  <thead>\n",
       "    <tr style=\"text-align: right;\">\n",
       "      <th></th>\n",
       "      <th>num_date_time</th>\n",
       "      <th>answer</th>\n",
       "    </tr>\n",
       "  </thead>\n",
       "  <tbody>\n",
       "    <tr>\n",
       "      <th>0</th>\n",
       "      <td>1_20220825 00</td>\n",
       "      <td>1114.5456</td>\n",
       "    </tr>\n",
       "    <tr>\n",
       "      <th>1</th>\n",
       "      <td>1_20220825 01</td>\n",
       "      <td>1052.4192</td>\n",
       "    </tr>\n",
       "    <tr>\n",
       "      <th>2</th>\n",
       "      <td>1_20220825 02</td>\n",
       "      <td>989.8848</td>\n",
       "    </tr>\n",
       "    <tr>\n",
       "      <th>3</th>\n",
       "      <td>1_20220825 03</td>\n",
       "      <td>990.9936</td>\n",
       "    </tr>\n",
       "    <tr>\n",
       "      <th>4</th>\n",
       "      <td>1_20220825 04</td>\n",
       "      <td>983.7504</td>\n",
       "    </tr>\n",
       "    <tr>\n",
       "      <th>...</th>\n",
       "      <td>...</td>\n",
       "      <td>...</td>\n",
       "    </tr>\n",
       "    <tr>\n",
       "      <th>16795</th>\n",
       "      <td>100_20220831 19</td>\n",
       "      <td>NaN</td>\n",
       "    </tr>\n",
       "    <tr>\n",
       "      <th>16796</th>\n",
       "      <td>100_20220831 20</td>\n",
       "      <td>NaN</td>\n",
       "    </tr>\n",
       "    <tr>\n",
       "      <th>16797</th>\n",
       "      <td>100_20220831 21</td>\n",
       "      <td>NaN</td>\n",
       "    </tr>\n",
       "    <tr>\n",
       "      <th>16798</th>\n",
       "      <td>100_20220831 22</td>\n",
       "      <td>NaN</td>\n",
       "    </tr>\n",
       "    <tr>\n",
       "      <th>16799</th>\n",
       "      <td>100_20220831 23</td>\n",
       "      <td>NaN</td>\n",
       "    </tr>\n",
       "  </tbody>\n",
       "</table>\n",
       "<p>16800 rows × 2 columns</p>\n",
       "</div>"
      ],
      "text/plain": [
       "         num_date_time     answer\n",
       "0        1_20220825 00  1114.5456\n",
       "1        1_20220825 01  1052.4192\n",
       "2        1_20220825 02   989.8848\n",
       "3        1_20220825 03   990.9936\n",
       "4        1_20220825 04   983.7504\n",
       "...                ...        ...\n",
       "16795  100_20220831 19        NaN\n",
       "16796  100_20220831 20        NaN\n",
       "16797  100_20220831 21        NaN\n",
       "16798  100_20220831 22        NaN\n",
       "16799  100_20220831 23        NaN\n",
       "\n",
       "[16800 rows x 2 columns]"
      ]
     },
     "execution_count": 314,
     "metadata": {},
     "output_type": "execute_result"
    }
   ],
   "source": [
    "answer1"
   ]
  },
  {
   "cell_type": "code",
   "execution_count": 315,
   "id": "5b2af3e1",
   "metadata": {},
   "outputs": [
    {
     "data": {
      "text/html": [
       "<div>\n",
       "<style scoped>\n",
       "    .dataframe tbody tr th:only-of-type {\n",
       "        vertical-align: middle;\n",
       "    }\n",
       "\n",
       "    .dataframe tbody tr th {\n",
       "        vertical-align: top;\n",
       "    }\n",
       "\n",
       "    .dataframe thead th {\n",
       "        text-align: right;\n",
       "    }\n",
       "</style>\n",
       "<table border=\"1\" class=\"dataframe\">\n",
       "  <thead>\n",
       "    <tr style=\"text-align: right;\">\n",
       "      <th></th>\n",
       "      <th>num_date_time</th>\n",
       "      <th>answer</th>\n",
       "    </tr>\n",
       "  </thead>\n",
       "  <tbody>\n",
       "    <tr>\n",
       "      <th>0</th>\n",
       "      <td>1_20220825 00</td>\n",
       "      <td>1352.063171</td>\n",
       "    </tr>\n",
       "    <tr>\n",
       "      <th>1</th>\n",
       "      <td>1_20220825 01</td>\n",
       "      <td>1278.061200</td>\n",
       "    </tr>\n",
       "    <tr>\n",
       "      <th>2</th>\n",
       "      <td>1_20220825 02</td>\n",
       "      <td>1170.887744</td>\n",
       "    </tr>\n",
       "    <tr>\n",
       "      <th>3</th>\n",
       "      <td>1_20220825 03</td>\n",
       "      <td>1178.553313</td>\n",
       "    </tr>\n",
       "    <tr>\n",
       "      <th>4</th>\n",
       "      <td>1_20220825 04</td>\n",
       "      <td>1175.781359</td>\n",
       "    </tr>\n",
       "    <tr>\n",
       "      <th>...</th>\n",
       "      <td>...</td>\n",
       "      <td>...</td>\n",
       "    </tr>\n",
       "    <tr>\n",
       "      <th>16795</th>\n",
       "      <td>100_20220831 19</td>\n",
       "      <td>NaN</td>\n",
       "    </tr>\n",
       "    <tr>\n",
       "      <th>16796</th>\n",
       "      <td>100_20220831 20</td>\n",
       "      <td>NaN</td>\n",
       "    </tr>\n",
       "    <tr>\n",
       "      <th>16797</th>\n",
       "      <td>100_20220831 21</td>\n",
       "      <td>NaN</td>\n",
       "    </tr>\n",
       "    <tr>\n",
       "      <th>16798</th>\n",
       "      <td>100_20220831 22</td>\n",
       "      <td>NaN</td>\n",
       "    </tr>\n",
       "    <tr>\n",
       "      <th>16799</th>\n",
       "      <td>100_20220831 23</td>\n",
       "      <td>NaN</td>\n",
       "    </tr>\n",
       "  </tbody>\n",
       "</table>\n",
       "<p>16800 rows × 2 columns</p>\n",
       "</div>"
      ],
      "text/plain": [
       "         num_date_time       answer\n",
       "0        1_20220825 00  1352.063171\n",
       "1        1_20220825 01  1278.061200\n",
       "2        1_20220825 02  1170.887744\n",
       "3        1_20220825 03  1178.553313\n",
       "4        1_20220825 04  1175.781359\n",
       "...                ...          ...\n",
       "16795  100_20220831 19          NaN\n",
       "16796  100_20220831 20          NaN\n",
       "16797  100_20220831 21          NaN\n",
       "16798  100_20220831 22          NaN\n",
       "16799  100_20220831 23          NaN\n",
       "\n",
       "[16800 rows x 2 columns]"
      ]
     },
     "execution_count": 315,
     "metadata": {},
     "output_type": "execute_result"
    }
   ],
   "source": [
    "answer2"
   ]
  },
  {
   "cell_type": "code",
   "execution_count": null,
   "id": "0f0cf01f",
   "metadata": {},
   "outputs": [],
   "source": []
  },
  {
   "cell_type": "code",
   "execution_count": null,
   "id": "c28d4bf3",
   "metadata": {},
   "outputs": [],
   "source": []
  },
  {
   "cell_type": "code",
   "execution_count": null,
   "id": "4c73d06a",
   "metadata": {},
   "outputs": [],
   "source": []
  },
  {
   "cell_type": "code",
   "execution_count": null,
   "id": "f6f39ff0",
   "metadata": {},
   "outputs": [],
   "source": []
  },
  {
   "cell_type": "code",
   "execution_count": null,
   "id": "5cff1b28",
   "metadata": {},
   "outputs": [],
   "source": [
    "# 22년 8월 25일은 평일...."
   ]
  }
 ],
 "metadata": {
  "kernelspec": {
   "display_name": "Python [conda env:tf_cpu] *",
   "language": "python",
   "name": "conda-env-tf_cpu-py"
  },
  "language_info": {
   "codemirror_mode": {
    "name": "ipython",
    "version": 3
   },
   "file_extension": ".py",
   "mimetype": "text/x-python",
   "name": "python",
   "nbconvert_exporter": "python",
   "pygments_lexer": "ipython3",
   "version": "3.8.16"
  }
 },
 "nbformat": 4,
 "nbformat_minor": 5
}
